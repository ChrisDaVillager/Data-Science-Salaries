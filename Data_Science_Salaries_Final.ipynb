{
  "nbformat": 4,
  "nbformat_minor": 0,
  "metadata": {
    "colab": {
      "provenance": [],
      "collapsed_sections": [],
      "authorship_tag": "ABX9TyP7UPqjBiT7IEodZKbMwcln",
      "include_colab_link": true
    },
    "kernelspec": {
      "name": "python3",
      "display_name": "Python 3"
    },
    "language_info": {
      "name": "python"
    }
  },
  "cells": [
    {
      "cell_type": "markdown",
      "metadata": {
        "id": "view-in-github",
        "colab_type": "text"
      },
      "source": [
        "<a href=\"https://colab.research.google.com/github/ChrisDaVillager/Data-Science-Salaries/blob/main/Data_Science_Salaries_Final.ipynb\" target=\"_parent\"><img src=\"https://colab.research.google.com/assets/colab-badge.svg\" alt=\"Open In Colab\"/></a>"
      ]
    },
    {
      "cell_type": "markdown",
      "source": [
        "Name: **Christopher Puccetti**"
      ],
      "metadata": {
        "id": "wFsFEG75RlGl"
      }
    },
    {
      "cell_type": "markdown",
      "source": [
        "# **Mount & Import**"
      ],
      "metadata": {
        "id": "9dACHzWIRq3e"
      }
    },
    {
      "cell_type": "code",
      "execution_count": 1,
      "metadata": {
        "colab": {
          "base_uri": "https://localhost:8080/"
        },
        "id": "Uw_d1LF1QBgU",
        "outputId": "b573af13-7638-423b-b6b6-79f1e0e2e0f6"
      },
      "outputs": [
        {
          "output_type": "stream",
          "name": "stdout",
          "text": [
            "Mounted at /content/drive\n"
          ]
        }
      ],
      "source": [
        "from google.colab import drive\n",
        "drive.mount('/content/drive', force_remount=True)"
      ]
    },
    {
      "cell_type": "code",
      "source": [
        "import pandas as pd\n",
        "import numpy as np\n",
        "import matplotlib.pyplot as plt\n",
        "import seaborn as sns\n",
        "from sklearn.model_selection import train_test_split\n",
        "from sklearn.compose import make_column_selector, make_column_transformer\n",
        "from sklearn.preprocessing import OneHotEncoder, StandardScaler\n",
        "from sklearn.impute import SimpleImputer\n",
        "from sklearn.pipeline import make_pipeline\n",
        "from sklearn.ensemble import RandomForestRegressor\n",
        "from sklearn.linear_model import LogisticRegression, LinearRegression\n",
        "from sklearn.decomposition import PCA\n",
        "from sklearn.neighbors import KNeighborsRegressor\n",
        "from sklearn.model_selection import GridSearchCV\n",
        "from sklearn.cluster import KMeans\n",
        "from sklearn.metrics import mean_squared_error, mean_absolute_error, r2_score\n",
        "import sklearn.metrics as metrics\n",
        "from sklearn import set_config\n",
        "set_config(display='diagram')"
      ],
      "metadata": {
        "id": "LxvGc4oLSCws"
      },
      "execution_count": 72,
      "outputs": []
    },
    {
      "cell_type": "markdown",
      "source": [
        "# **Dataset: Data Science Job Salaries**"
      ],
      "metadata": {
        "id": "PcB1xUFeSL1a"
      }
    },
    {
      "cell_type": "code",
      "source": [
        "df2 = pd.read_csv('/content/drive/MyDrive/Stack 2/ds_salaries.csv')\n",
        "df2.head()"
      ],
      "metadata": {
        "colab": {
          "base_uri": "https://localhost:8080/",
          "height": 206
        },
        "id": "DgY8nFq-R5eR",
        "outputId": "bfeead48-2663-425d-9a40-90a9948d8e5c"
      },
      "execution_count": 3,
      "outputs": [
        {
          "output_type": "execute_result",
          "data": {
            "text/plain": [
              "   Unnamed: 0  work_year experience_level employment_type  \\\n",
              "0           0       2020               MI              FT   \n",
              "1           1       2020               SE              FT   \n",
              "2           2       2020               SE              FT   \n",
              "3           3       2020               MI              FT   \n",
              "4           4       2020               SE              FT   \n",
              "\n",
              "                    job_title  salary salary_currency  salary_in_usd  \\\n",
              "0              Data Scientist   70000             EUR          79833   \n",
              "1  Machine Learning Scientist  260000             USD         260000   \n",
              "2           Big Data Engineer   85000             GBP         109024   \n",
              "3        Product Data Analyst   20000             USD          20000   \n",
              "4   Machine Learning Engineer  150000             USD         150000   \n",
              "\n",
              "  employee_residence  remote_ratio company_location company_size  \n",
              "0                 DE             0               DE            L  \n",
              "1                 JP             0               JP            S  \n",
              "2                 GB            50               GB            M  \n",
              "3                 HN             0               HN            S  \n",
              "4                 US            50               US            L  "
            ],
            "text/html": [
              "\n",
              "  <div id=\"df-5fc8a3a3-faaa-4bd3-b86d-f289b357fb37\">\n",
              "    <div class=\"colab-df-container\">\n",
              "      <div>\n",
              "<style scoped>\n",
              "    .dataframe tbody tr th:only-of-type {\n",
              "        vertical-align: middle;\n",
              "    }\n",
              "\n",
              "    .dataframe tbody tr th {\n",
              "        vertical-align: top;\n",
              "    }\n",
              "\n",
              "    .dataframe thead th {\n",
              "        text-align: right;\n",
              "    }\n",
              "</style>\n",
              "<table border=\"1\" class=\"dataframe\">\n",
              "  <thead>\n",
              "    <tr style=\"text-align: right;\">\n",
              "      <th></th>\n",
              "      <th>Unnamed: 0</th>\n",
              "      <th>work_year</th>\n",
              "      <th>experience_level</th>\n",
              "      <th>employment_type</th>\n",
              "      <th>job_title</th>\n",
              "      <th>salary</th>\n",
              "      <th>salary_currency</th>\n",
              "      <th>salary_in_usd</th>\n",
              "      <th>employee_residence</th>\n",
              "      <th>remote_ratio</th>\n",
              "      <th>company_location</th>\n",
              "      <th>company_size</th>\n",
              "    </tr>\n",
              "  </thead>\n",
              "  <tbody>\n",
              "    <tr>\n",
              "      <th>0</th>\n",
              "      <td>0</td>\n",
              "      <td>2020</td>\n",
              "      <td>MI</td>\n",
              "      <td>FT</td>\n",
              "      <td>Data Scientist</td>\n",
              "      <td>70000</td>\n",
              "      <td>EUR</td>\n",
              "      <td>79833</td>\n",
              "      <td>DE</td>\n",
              "      <td>0</td>\n",
              "      <td>DE</td>\n",
              "      <td>L</td>\n",
              "    </tr>\n",
              "    <tr>\n",
              "      <th>1</th>\n",
              "      <td>1</td>\n",
              "      <td>2020</td>\n",
              "      <td>SE</td>\n",
              "      <td>FT</td>\n",
              "      <td>Machine Learning Scientist</td>\n",
              "      <td>260000</td>\n",
              "      <td>USD</td>\n",
              "      <td>260000</td>\n",
              "      <td>JP</td>\n",
              "      <td>0</td>\n",
              "      <td>JP</td>\n",
              "      <td>S</td>\n",
              "    </tr>\n",
              "    <tr>\n",
              "      <th>2</th>\n",
              "      <td>2</td>\n",
              "      <td>2020</td>\n",
              "      <td>SE</td>\n",
              "      <td>FT</td>\n",
              "      <td>Big Data Engineer</td>\n",
              "      <td>85000</td>\n",
              "      <td>GBP</td>\n",
              "      <td>109024</td>\n",
              "      <td>GB</td>\n",
              "      <td>50</td>\n",
              "      <td>GB</td>\n",
              "      <td>M</td>\n",
              "    </tr>\n",
              "    <tr>\n",
              "      <th>3</th>\n",
              "      <td>3</td>\n",
              "      <td>2020</td>\n",
              "      <td>MI</td>\n",
              "      <td>FT</td>\n",
              "      <td>Product Data Analyst</td>\n",
              "      <td>20000</td>\n",
              "      <td>USD</td>\n",
              "      <td>20000</td>\n",
              "      <td>HN</td>\n",
              "      <td>0</td>\n",
              "      <td>HN</td>\n",
              "      <td>S</td>\n",
              "    </tr>\n",
              "    <tr>\n",
              "      <th>4</th>\n",
              "      <td>4</td>\n",
              "      <td>2020</td>\n",
              "      <td>SE</td>\n",
              "      <td>FT</td>\n",
              "      <td>Machine Learning Engineer</td>\n",
              "      <td>150000</td>\n",
              "      <td>USD</td>\n",
              "      <td>150000</td>\n",
              "      <td>US</td>\n",
              "      <td>50</td>\n",
              "      <td>US</td>\n",
              "      <td>L</td>\n",
              "    </tr>\n",
              "  </tbody>\n",
              "</table>\n",
              "</div>\n",
              "      <button class=\"colab-df-convert\" onclick=\"convertToInteractive('df-5fc8a3a3-faaa-4bd3-b86d-f289b357fb37')\"\n",
              "              title=\"Convert this dataframe to an interactive table.\"\n",
              "              style=\"display:none;\">\n",
              "        \n",
              "  <svg xmlns=\"http://www.w3.org/2000/svg\" height=\"24px\"viewBox=\"0 0 24 24\"\n",
              "       width=\"24px\">\n",
              "    <path d=\"M0 0h24v24H0V0z\" fill=\"none\"/>\n",
              "    <path d=\"M18.56 5.44l.94 2.06.94-2.06 2.06-.94-2.06-.94-.94-2.06-.94 2.06-2.06.94zm-11 1L8.5 8.5l.94-2.06 2.06-.94-2.06-.94L8.5 2.5l-.94 2.06-2.06.94zm10 10l.94 2.06.94-2.06 2.06-.94-2.06-.94-.94-2.06-.94 2.06-2.06.94z\"/><path d=\"M17.41 7.96l-1.37-1.37c-.4-.4-.92-.59-1.43-.59-.52 0-1.04.2-1.43.59L10.3 9.45l-7.72 7.72c-.78.78-.78 2.05 0 2.83L4 21.41c.39.39.9.59 1.41.59.51 0 1.02-.2 1.41-.59l7.78-7.78 2.81-2.81c.8-.78.8-2.07 0-2.86zM5.41 20L4 18.59l7.72-7.72 1.47 1.35L5.41 20z\"/>\n",
              "  </svg>\n",
              "      </button>\n",
              "      \n",
              "  <style>\n",
              "    .colab-df-container {\n",
              "      display:flex;\n",
              "      flex-wrap:wrap;\n",
              "      gap: 12px;\n",
              "    }\n",
              "\n",
              "    .colab-df-convert {\n",
              "      background-color: #E8F0FE;\n",
              "      border: none;\n",
              "      border-radius: 50%;\n",
              "      cursor: pointer;\n",
              "      display: none;\n",
              "      fill: #1967D2;\n",
              "      height: 32px;\n",
              "      padding: 0 0 0 0;\n",
              "      width: 32px;\n",
              "    }\n",
              "\n",
              "    .colab-df-convert:hover {\n",
              "      background-color: #E2EBFA;\n",
              "      box-shadow: 0px 1px 2px rgba(60, 64, 67, 0.3), 0px 1px 3px 1px rgba(60, 64, 67, 0.15);\n",
              "      fill: #174EA6;\n",
              "    }\n",
              "\n",
              "    [theme=dark] .colab-df-convert {\n",
              "      background-color: #3B4455;\n",
              "      fill: #D2E3FC;\n",
              "    }\n",
              "\n",
              "    [theme=dark] .colab-df-convert:hover {\n",
              "      background-color: #434B5C;\n",
              "      box-shadow: 0px 1px 3px 1px rgba(0, 0, 0, 0.15);\n",
              "      filter: drop-shadow(0px 1px 2px rgba(0, 0, 0, 0.3));\n",
              "      fill: #FFFFFF;\n",
              "    }\n",
              "  </style>\n",
              "\n",
              "      <script>\n",
              "        const buttonEl =\n",
              "          document.querySelector('#df-5fc8a3a3-faaa-4bd3-b86d-f289b357fb37 button.colab-df-convert');\n",
              "        buttonEl.style.display =\n",
              "          google.colab.kernel.accessAllowed ? 'block' : 'none';\n",
              "\n",
              "        async function convertToInteractive(key) {\n",
              "          const element = document.querySelector('#df-5fc8a3a3-faaa-4bd3-b86d-f289b357fb37');\n",
              "          const dataTable =\n",
              "            await google.colab.kernel.invokeFunction('convertToInteractive',\n",
              "                                                     [key], {});\n",
              "          if (!dataTable) return;\n",
              "\n",
              "          const docLinkHtml = 'Like what you see? Visit the ' +\n",
              "            '<a target=\"_blank\" href=https://colab.research.google.com/notebooks/data_table.ipynb>data table notebook</a>'\n",
              "            + ' to learn more about interactive tables.';\n",
              "          element.innerHTML = '';\n",
              "          dataTable['output_type'] = 'display_data';\n",
              "          await google.colab.output.renderOutput(dataTable, element);\n",
              "          const docLink = document.createElement('div');\n",
              "          docLink.innerHTML = docLinkHtml;\n",
              "          element.appendChild(docLink);\n",
              "        }\n",
              "      </script>\n",
              "    </div>\n",
              "  </div>\n",
              "  "
            ]
          },
          "metadata": {},
          "execution_count": 3
        }
      ]
    },
    {
      "cell_type": "markdown",
      "source": [
        "1. Source of data\n",
        "  * https://www.kaggle.com/datasets/ruchi798/data-science-job-salaries\n",
        "2. Brief description of data\n",
        "  * Salaries of Data Science careers based on exp level, location and title\n",
        "3. What is the target?\n",
        "  * Target is 'salary'\n",
        "4. Is this a classification or regression problem?\n",
        "  * Regression\n",
        "5. How many features?\n",
        "  * 12 total features\n",
        "6. How many rows of data.\n",
        "  * 607 rows\n",
        "7. What, if any, challenges do your foresee in cleaning, exploring, or modeling with this dataset?\n",
        "  * Small dataset & binarizing values"
      ],
      "metadata": {
        "id": "W8wX_raJR4mB"
      }
    },
    {
      "cell_type": "code",
      "source": [
        "df2.info()\n",
        "df2.describe()"
      ],
      "metadata": {
        "colab": {
          "base_uri": "https://localhost:8080/",
          "height": 647
        },
        "id": "9VuhoQ8zKDYF",
        "outputId": "88c0785f-d0bf-4598-f75c-39a308bb18a9"
      },
      "execution_count": 4,
      "outputs": [
        {
          "output_type": "stream",
          "name": "stdout",
          "text": [
            "<class 'pandas.core.frame.DataFrame'>\n",
            "RangeIndex: 607 entries, 0 to 606\n",
            "Data columns (total 12 columns):\n",
            " #   Column              Non-Null Count  Dtype \n",
            "---  ------              --------------  ----- \n",
            " 0   Unnamed: 0          607 non-null    int64 \n",
            " 1   work_year           607 non-null    int64 \n",
            " 2   experience_level    607 non-null    object\n",
            " 3   employment_type     607 non-null    object\n",
            " 4   job_title           607 non-null    object\n",
            " 5   salary              607 non-null    int64 \n",
            " 6   salary_currency     607 non-null    object\n",
            " 7   salary_in_usd       607 non-null    int64 \n",
            " 8   employee_residence  607 non-null    object\n",
            " 9   remote_ratio        607 non-null    int64 \n",
            " 10  company_location    607 non-null    object\n",
            " 11  company_size        607 non-null    object\n",
            "dtypes: int64(5), object(7)\n",
            "memory usage: 57.0+ KB\n"
          ]
        },
        {
          "output_type": "execute_result",
          "data": {
            "text/plain": [
              "       Unnamed: 0    work_year        salary  salary_in_usd  remote_ratio\n",
              "count  607.000000   607.000000  6.070000e+02     607.000000     607.00000\n",
              "mean   303.000000  2021.405272  3.240001e+05  112297.869852      70.92257\n",
              "std    175.370085     0.692133  1.544357e+06   70957.259411      40.70913\n",
              "min      0.000000  2020.000000  4.000000e+03    2859.000000       0.00000\n",
              "25%    151.500000  2021.000000  7.000000e+04   62726.000000      50.00000\n",
              "50%    303.000000  2022.000000  1.150000e+05  101570.000000     100.00000\n",
              "75%    454.500000  2022.000000  1.650000e+05  150000.000000     100.00000\n",
              "max    606.000000  2022.000000  3.040000e+07  600000.000000     100.00000"
            ],
            "text/html": [
              "\n",
              "  <div id=\"df-929d58fa-bdcc-406a-ad01-4a3387d5c5e8\">\n",
              "    <div class=\"colab-df-container\">\n",
              "      <div>\n",
              "<style scoped>\n",
              "    .dataframe tbody tr th:only-of-type {\n",
              "        vertical-align: middle;\n",
              "    }\n",
              "\n",
              "    .dataframe tbody tr th {\n",
              "        vertical-align: top;\n",
              "    }\n",
              "\n",
              "    .dataframe thead th {\n",
              "        text-align: right;\n",
              "    }\n",
              "</style>\n",
              "<table border=\"1\" class=\"dataframe\">\n",
              "  <thead>\n",
              "    <tr style=\"text-align: right;\">\n",
              "      <th></th>\n",
              "      <th>Unnamed: 0</th>\n",
              "      <th>work_year</th>\n",
              "      <th>salary</th>\n",
              "      <th>salary_in_usd</th>\n",
              "      <th>remote_ratio</th>\n",
              "    </tr>\n",
              "  </thead>\n",
              "  <tbody>\n",
              "    <tr>\n",
              "      <th>count</th>\n",
              "      <td>607.000000</td>\n",
              "      <td>607.000000</td>\n",
              "      <td>6.070000e+02</td>\n",
              "      <td>607.000000</td>\n",
              "      <td>607.00000</td>\n",
              "    </tr>\n",
              "    <tr>\n",
              "      <th>mean</th>\n",
              "      <td>303.000000</td>\n",
              "      <td>2021.405272</td>\n",
              "      <td>3.240001e+05</td>\n",
              "      <td>112297.869852</td>\n",
              "      <td>70.92257</td>\n",
              "    </tr>\n",
              "    <tr>\n",
              "      <th>std</th>\n",
              "      <td>175.370085</td>\n",
              "      <td>0.692133</td>\n",
              "      <td>1.544357e+06</td>\n",
              "      <td>70957.259411</td>\n",
              "      <td>40.70913</td>\n",
              "    </tr>\n",
              "    <tr>\n",
              "      <th>min</th>\n",
              "      <td>0.000000</td>\n",
              "      <td>2020.000000</td>\n",
              "      <td>4.000000e+03</td>\n",
              "      <td>2859.000000</td>\n",
              "      <td>0.00000</td>\n",
              "    </tr>\n",
              "    <tr>\n",
              "      <th>25%</th>\n",
              "      <td>151.500000</td>\n",
              "      <td>2021.000000</td>\n",
              "      <td>7.000000e+04</td>\n",
              "      <td>62726.000000</td>\n",
              "      <td>50.00000</td>\n",
              "    </tr>\n",
              "    <tr>\n",
              "      <th>50%</th>\n",
              "      <td>303.000000</td>\n",
              "      <td>2022.000000</td>\n",
              "      <td>1.150000e+05</td>\n",
              "      <td>101570.000000</td>\n",
              "      <td>100.00000</td>\n",
              "    </tr>\n",
              "    <tr>\n",
              "      <th>75%</th>\n",
              "      <td>454.500000</td>\n",
              "      <td>2022.000000</td>\n",
              "      <td>1.650000e+05</td>\n",
              "      <td>150000.000000</td>\n",
              "      <td>100.00000</td>\n",
              "    </tr>\n",
              "    <tr>\n",
              "      <th>max</th>\n",
              "      <td>606.000000</td>\n",
              "      <td>2022.000000</td>\n",
              "      <td>3.040000e+07</td>\n",
              "      <td>600000.000000</td>\n",
              "      <td>100.00000</td>\n",
              "    </tr>\n",
              "  </tbody>\n",
              "</table>\n",
              "</div>\n",
              "      <button class=\"colab-df-convert\" onclick=\"convertToInteractive('df-929d58fa-bdcc-406a-ad01-4a3387d5c5e8')\"\n",
              "              title=\"Convert this dataframe to an interactive table.\"\n",
              "              style=\"display:none;\">\n",
              "        \n",
              "  <svg xmlns=\"http://www.w3.org/2000/svg\" height=\"24px\"viewBox=\"0 0 24 24\"\n",
              "       width=\"24px\">\n",
              "    <path d=\"M0 0h24v24H0V0z\" fill=\"none\"/>\n",
              "    <path d=\"M18.56 5.44l.94 2.06.94-2.06 2.06-.94-2.06-.94-.94-2.06-.94 2.06-2.06.94zm-11 1L8.5 8.5l.94-2.06 2.06-.94-2.06-.94L8.5 2.5l-.94 2.06-2.06.94zm10 10l.94 2.06.94-2.06 2.06-.94-2.06-.94-.94-2.06-.94 2.06-2.06.94z\"/><path d=\"M17.41 7.96l-1.37-1.37c-.4-.4-.92-.59-1.43-.59-.52 0-1.04.2-1.43.59L10.3 9.45l-7.72 7.72c-.78.78-.78 2.05 0 2.83L4 21.41c.39.39.9.59 1.41.59.51 0 1.02-.2 1.41-.59l7.78-7.78 2.81-2.81c.8-.78.8-2.07 0-2.86zM5.41 20L4 18.59l7.72-7.72 1.47 1.35L5.41 20z\"/>\n",
              "  </svg>\n",
              "      </button>\n",
              "      \n",
              "  <style>\n",
              "    .colab-df-container {\n",
              "      display:flex;\n",
              "      flex-wrap:wrap;\n",
              "      gap: 12px;\n",
              "    }\n",
              "\n",
              "    .colab-df-convert {\n",
              "      background-color: #E8F0FE;\n",
              "      border: none;\n",
              "      border-radius: 50%;\n",
              "      cursor: pointer;\n",
              "      display: none;\n",
              "      fill: #1967D2;\n",
              "      height: 32px;\n",
              "      padding: 0 0 0 0;\n",
              "      width: 32px;\n",
              "    }\n",
              "\n",
              "    .colab-df-convert:hover {\n",
              "      background-color: #E2EBFA;\n",
              "      box-shadow: 0px 1px 2px rgba(60, 64, 67, 0.3), 0px 1px 3px 1px rgba(60, 64, 67, 0.15);\n",
              "      fill: #174EA6;\n",
              "    }\n",
              "\n",
              "    [theme=dark] .colab-df-convert {\n",
              "      background-color: #3B4455;\n",
              "      fill: #D2E3FC;\n",
              "    }\n",
              "\n",
              "    [theme=dark] .colab-df-convert:hover {\n",
              "      background-color: #434B5C;\n",
              "      box-shadow: 0px 1px 3px 1px rgba(0, 0, 0, 0.15);\n",
              "      filter: drop-shadow(0px 1px 2px rgba(0, 0, 0, 0.3));\n",
              "      fill: #FFFFFF;\n",
              "    }\n",
              "  </style>\n",
              "\n",
              "      <script>\n",
              "        const buttonEl =\n",
              "          document.querySelector('#df-929d58fa-bdcc-406a-ad01-4a3387d5c5e8 button.colab-df-convert');\n",
              "        buttonEl.style.display =\n",
              "          google.colab.kernel.accessAllowed ? 'block' : 'none';\n",
              "\n",
              "        async function convertToInteractive(key) {\n",
              "          const element = document.querySelector('#df-929d58fa-bdcc-406a-ad01-4a3387d5c5e8');\n",
              "          const dataTable =\n",
              "            await google.colab.kernel.invokeFunction('convertToInteractive',\n",
              "                                                     [key], {});\n",
              "          if (!dataTable) return;\n",
              "\n",
              "          const docLinkHtml = 'Like what you see? Visit the ' +\n",
              "            '<a target=\"_blank\" href=https://colab.research.google.com/notebooks/data_table.ipynb>data table notebook</a>'\n",
              "            + ' to learn more about interactive tables.';\n",
              "          element.innerHTML = '';\n",
              "          dataTable['output_type'] = 'display_data';\n",
              "          await google.colab.output.renderOutput(dataTable, element);\n",
              "          const docLink = document.createElement('div');\n",
              "          docLink.innerHTML = docLinkHtml;\n",
              "          element.appendChild(docLink);\n",
              "        }\n",
              "      </script>\n",
              "    </div>\n",
              "  </div>\n",
              "  "
            ]
          },
          "metadata": {},
          "execution_count": 4
        }
      ]
    },
    {
      "cell_type": "markdown",
      "source": [
        "#**Data Cleaning and Visualization**"
      ],
      "metadata": {
        "id": "wrRFzNVkpEbT"
      }
    },
    {
      "cell_type": "markdown",
      "source": [
        "**To meet the requirements for this week you must have:**\n",
        "\n",
        "-deleted unnecessary columns\n",
        "\n",
        "-deleted duplicate rows\n",
        "\n",
        "-identified and addressed missing values \n",
        "\n",
        "-identified and corrected inconsistencies in data for categorical values (i.e. Cat, cat, cats)\n",
        "\n",
        "-produced univariate visuals for the target and all features\n",
        "\n",
        "-identified outliers\n",
        "\n",
        "-clearly commented all of your cleaning steps and described any decisions you made\n",
        "\n"
      ],
      "metadata": {
        "id": "sepydvb6pIRw"
      }
    },
    {
      "cell_type": "code",
      "source": [
        "df2.head()"
      ],
      "metadata": {
        "colab": {
          "base_uri": "https://localhost:8080/",
          "height": 206
        },
        "id": "kIMVijqkpLmT",
        "outputId": "8aae4c0d-2f4e-4f75-b525-d71934de5675"
      },
      "execution_count": 5,
      "outputs": [
        {
          "output_type": "execute_result",
          "data": {
            "text/plain": [
              "   Unnamed: 0  work_year experience_level employment_type  \\\n",
              "0           0       2020               MI              FT   \n",
              "1           1       2020               SE              FT   \n",
              "2           2       2020               SE              FT   \n",
              "3           3       2020               MI              FT   \n",
              "4           4       2020               SE              FT   \n",
              "\n",
              "                    job_title  salary salary_currency  salary_in_usd  \\\n",
              "0              Data Scientist   70000             EUR          79833   \n",
              "1  Machine Learning Scientist  260000             USD         260000   \n",
              "2           Big Data Engineer   85000             GBP         109024   \n",
              "3        Product Data Analyst   20000             USD          20000   \n",
              "4   Machine Learning Engineer  150000             USD         150000   \n",
              "\n",
              "  employee_residence  remote_ratio company_location company_size  \n",
              "0                 DE             0               DE            L  \n",
              "1                 JP             0               JP            S  \n",
              "2                 GB            50               GB            M  \n",
              "3                 HN             0               HN            S  \n",
              "4                 US            50               US            L  "
            ],
            "text/html": [
              "\n",
              "  <div id=\"df-346d0111-00e7-4bbf-9294-b49f5d5c7662\">\n",
              "    <div class=\"colab-df-container\">\n",
              "      <div>\n",
              "<style scoped>\n",
              "    .dataframe tbody tr th:only-of-type {\n",
              "        vertical-align: middle;\n",
              "    }\n",
              "\n",
              "    .dataframe tbody tr th {\n",
              "        vertical-align: top;\n",
              "    }\n",
              "\n",
              "    .dataframe thead th {\n",
              "        text-align: right;\n",
              "    }\n",
              "</style>\n",
              "<table border=\"1\" class=\"dataframe\">\n",
              "  <thead>\n",
              "    <tr style=\"text-align: right;\">\n",
              "      <th></th>\n",
              "      <th>Unnamed: 0</th>\n",
              "      <th>work_year</th>\n",
              "      <th>experience_level</th>\n",
              "      <th>employment_type</th>\n",
              "      <th>job_title</th>\n",
              "      <th>salary</th>\n",
              "      <th>salary_currency</th>\n",
              "      <th>salary_in_usd</th>\n",
              "      <th>employee_residence</th>\n",
              "      <th>remote_ratio</th>\n",
              "      <th>company_location</th>\n",
              "      <th>company_size</th>\n",
              "    </tr>\n",
              "  </thead>\n",
              "  <tbody>\n",
              "    <tr>\n",
              "      <th>0</th>\n",
              "      <td>0</td>\n",
              "      <td>2020</td>\n",
              "      <td>MI</td>\n",
              "      <td>FT</td>\n",
              "      <td>Data Scientist</td>\n",
              "      <td>70000</td>\n",
              "      <td>EUR</td>\n",
              "      <td>79833</td>\n",
              "      <td>DE</td>\n",
              "      <td>0</td>\n",
              "      <td>DE</td>\n",
              "      <td>L</td>\n",
              "    </tr>\n",
              "    <tr>\n",
              "      <th>1</th>\n",
              "      <td>1</td>\n",
              "      <td>2020</td>\n",
              "      <td>SE</td>\n",
              "      <td>FT</td>\n",
              "      <td>Machine Learning Scientist</td>\n",
              "      <td>260000</td>\n",
              "      <td>USD</td>\n",
              "      <td>260000</td>\n",
              "      <td>JP</td>\n",
              "      <td>0</td>\n",
              "      <td>JP</td>\n",
              "      <td>S</td>\n",
              "    </tr>\n",
              "    <tr>\n",
              "      <th>2</th>\n",
              "      <td>2</td>\n",
              "      <td>2020</td>\n",
              "      <td>SE</td>\n",
              "      <td>FT</td>\n",
              "      <td>Big Data Engineer</td>\n",
              "      <td>85000</td>\n",
              "      <td>GBP</td>\n",
              "      <td>109024</td>\n",
              "      <td>GB</td>\n",
              "      <td>50</td>\n",
              "      <td>GB</td>\n",
              "      <td>M</td>\n",
              "    </tr>\n",
              "    <tr>\n",
              "      <th>3</th>\n",
              "      <td>3</td>\n",
              "      <td>2020</td>\n",
              "      <td>MI</td>\n",
              "      <td>FT</td>\n",
              "      <td>Product Data Analyst</td>\n",
              "      <td>20000</td>\n",
              "      <td>USD</td>\n",
              "      <td>20000</td>\n",
              "      <td>HN</td>\n",
              "      <td>0</td>\n",
              "      <td>HN</td>\n",
              "      <td>S</td>\n",
              "    </tr>\n",
              "    <tr>\n",
              "      <th>4</th>\n",
              "      <td>4</td>\n",
              "      <td>2020</td>\n",
              "      <td>SE</td>\n",
              "      <td>FT</td>\n",
              "      <td>Machine Learning Engineer</td>\n",
              "      <td>150000</td>\n",
              "      <td>USD</td>\n",
              "      <td>150000</td>\n",
              "      <td>US</td>\n",
              "      <td>50</td>\n",
              "      <td>US</td>\n",
              "      <td>L</td>\n",
              "    </tr>\n",
              "  </tbody>\n",
              "</table>\n",
              "</div>\n",
              "      <button class=\"colab-df-convert\" onclick=\"convertToInteractive('df-346d0111-00e7-4bbf-9294-b49f5d5c7662')\"\n",
              "              title=\"Convert this dataframe to an interactive table.\"\n",
              "              style=\"display:none;\">\n",
              "        \n",
              "  <svg xmlns=\"http://www.w3.org/2000/svg\" height=\"24px\"viewBox=\"0 0 24 24\"\n",
              "       width=\"24px\">\n",
              "    <path d=\"M0 0h24v24H0V0z\" fill=\"none\"/>\n",
              "    <path d=\"M18.56 5.44l.94 2.06.94-2.06 2.06-.94-2.06-.94-.94-2.06-.94 2.06-2.06.94zm-11 1L8.5 8.5l.94-2.06 2.06-.94-2.06-.94L8.5 2.5l-.94 2.06-2.06.94zm10 10l.94 2.06.94-2.06 2.06-.94-2.06-.94-.94-2.06-.94 2.06-2.06.94z\"/><path d=\"M17.41 7.96l-1.37-1.37c-.4-.4-.92-.59-1.43-.59-.52 0-1.04.2-1.43.59L10.3 9.45l-7.72 7.72c-.78.78-.78 2.05 0 2.83L4 21.41c.39.39.9.59 1.41.59.51 0 1.02-.2 1.41-.59l7.78-7.78 2.81-2.81c.8-.78.8-2.07 0-2.86zM5.41 20L4 18.59l7.72-7.72 1.47 1.35L5.41 20z\"/>\n",
              "  </svg>\n",
              "      </button>\n",
              "      \n",
              "  <style>\n",
              "    .colab-df-container {\n",
              "      display:flex;\n",
              "      flex-wrap:wrap;\n",
              "      gap: 12px;\n",
              "    }\n",
              "\n",
              "    .colab-df-convert {\n",
              "      background-color: #E8F0FE;\n",
              "      border: none;\n",
              "      border-radius: 50%;\n",
              "      cursor: pointer;\n",
              "      display: none;\n",
              "      fill: #1967D2;\n",
              "      height: 32px;\n",
              "      padding: 0 0 0 0;\n",
              "      width: 32px;\n",
              "    }\n",
              "\n",
              "    .colab-df-convert:hover {\n",
              "      background-color: #E2EBFA;\n",
              "      box-shadow: 0px 1px 2px rgba(60, 64, 67, 0.3), 0px 1px 3px 1px rgba(60, 64, 67, 0.15);\n",
              "      fill: #174EA6;\n",
              "    }\n",
              "\n",
              "    [theme=dark] .colab-df-convert {\n",
              "      background-color: #3B4455;\n",
              "      fill: #D2E3FC;\n",
              "    }\n",
              "\n",
              "    [theme=dark] .colab-df-convert:hover {\n",
              "      background-color: #434B5C;\n",
              "      box-shadow: 0px 1px 3px 1px rgba(0, 0, 0, 0.15);\n",
              "      filter: drop-shadow(0px 1px 2px rgba(0, 0, 0, 0.3));\n",
              "      fill: #FFFFFF;\n",
              "    }\n",
              "  </style>\n",
              "\n",
              "      <script>\n",
              "        const buttonEl =\n",
              "          document.querySelector('#df-346d0111-00e7-4bbf-9294-b49f5d5c7662 button.colab-df-convert');\n",
              "        buttonEl.style.display =\n",
              "          google.colab.kernel.accessAllowed ? 'block' : 'none';\n",
              "\n",
              "        async function convertToInteractive(key) {\n",
              "          const element = document.querySelector('#df-346d0111-00e7-4bbf-9294-b49f5d5c7662');\n",
              "          const dataTable =\n",
              "            await google.colab.kernel.invokeFunction('convertToInteractive',\n",
              "                                                     [key], {});\n",
              "          if (!dataTable) return;\n",
              "\n",
              "          const docLinkHtml = 'Like what you see? Visit the ' +\n",
              "            '<a target=\"_blank\" href=https://colab.research.google.com/notebooks/data_table.ipynb>data table notebook</a>'\n",
              "            + ' to learn more about interactive tables.';\n",
              "          element.innerHTML = '';\n",
              "          dataTable['output_type'] = 'display_data';\n",
              "          await google.colab.output.renderOutput(dataTable, element);\n",
              "          const docLink = document.createElement('div');\n",
              "          docLink.innerHTML = docLinkHtml;\n",
              "          element.appendChild(docLink);\n",
              "        }\n",
              "      </script>\n",
              "    </div>\n",
              "  </div>\n",
              "  "
            ]
          },
          "metadata": {},
          "execution_count": 5
        }
      ]
    },
    {
      "cell_type": "markdown",
      "source": [
        "**Dropping unnecessary columns**"
      ],
      "metadata": {
        "id": "9TO15PRnptUh"
      }
    },
    {
      "cell_type": "code",
      "source": [
        "# removing unnecessary columns\n",
        "# removing 'salary', 'salary_currency' and 'Unnamed: 0' & 'company_location' as we will focus on salary in USD\n",
        "df2 = df2.drop(columns=['Unnamed: 0', 'salary', 'salary_currency', 'company_location'])\n",
        "df2.info()"
      ],
      "metadata": {
        "colab": {
          "base_uri": "https://localhost:8080/"
        },
        "id": "Jwl1o96Sp8Ej",
        "outputId": "8874720f-541d-4935-fd4f-326bf4dfcaeb"
      },
      "execution_count": 6,
      "outputs": [
        {
          "output_type": "stream",
          "name": "stdout",
          "text": [
            "<class 'pandas.core.frame.DataFrame'>\n",
            "RangeIndex: 607 entries, 0 to 606\n",
            "Data columns (total 8 columns):\n",
            " #   Column              Non-Null Count  Dtype \n",
            "---  ------              --------------  ----- \n",
            " 0   work_year           607 non-null    int64 \n",
            " 1   experience_level    607 non-null    object\n",
            " 2   employment_type     607 non-null    object\n",
            " 3   job_title           607 non-null    object\n",
            " 4   salary_in_usd       607 non-null    int64 \n",
            " 5   employee_residence  607 non-null    object\n",
            " 6   remote_ratio        607 non-null    int64 \n",
            " 7   company_size        607 non-null    object\n",
            "dtypes: int64(3), object(5)\n",
            "memory usage: 38.1+ KB\n"
          ]
        }
      ]
    },
    {
      "cell_type": "markdown",
      "source": [
        "**Checking duplicate values**"
      ],
      "metadata": {
        "id": "hcfDccqpqP6t"
      }
    },
    {
      "cell_type": "code",
      "source": [
        "df2.duplicated().sum()"
      ],
      "metadata": {
        "colab": {
          "base_uri": "https://localhost:8080/"
        },
        "id": "KxX_ThV6qSex",
        "outputId": "faaae5f3-57fc-48f9-8fa5-0ed967ba09df"
      },
      "execution_count": 7,
      "outputs": [
        {
          "output_type": "execute_result",
          "data": {
            "text/plain": [
              "42"
            ]
          },
          "metadata": {},
          "execution_count": 7
        }
      ]
    },
    {
      "cell_type": "code",
      "source": [
        "df2.drop_duplicates(keep=False, inplace=True)\n",
        "df2.duplicated().sum()"
      ],
      "metadata": {
        "colab": {
          "base_uri": "https://localhost:8080/"
        },
        "id": "-rHbABkhwAA4",
        "outputId": "17f9e4ee-c955-4a69-dd83-ce80962637fd"
      },
      "execution_count": 8,
      "outputs": [
        {
          "output_type": "execute_result",
          "data": {
            "text/plain": [
              "0"
            ]
          },
          "metadata": {},
          "execution_count": 8
        }
      ]
    },
    {
      "cell_type": "markdown",
      "source": [
        "**Checking missing values**"
      ],
      "metadata": {
        "id": "INnBaXW2qVH1"
      }
    },
    {
      "cell_type": "code",
      "source": [
        "df2.isna().sum()"
      ],
      "metadata": {
        "colab": {
          "base_uri": "https://localhost:8080/"
        },
        "id": "X09kjCmgqWWL",
        "outputId": "c500408f-251b-4436-9afa-3a9226ccc4b5"
      },
      "execution_count": 9,
      "outputs": [
        {
          "output_type": "execute_result",
          "data": {
            "text/plain": [
              "work_year             0\n",
              "experience_level      0\n",
              "employment_type       0\n",
              "job_title             0\n",
              "salary_in_usd         0\n",
              "employee_residence    0\n",
              "remote_ratio          0\n",
              "company_size          0\n",
              "dtype: int64"
            ]
          },
          "metadata": {},
          "execution_count": 9
        }
      ]
    },
    {
      "cell_type": "markdown",
      "source": [
        "**Checking inconsistencies in data for categorical values**\n",
        "* No inconsistencies found in data"
      ],
      "metadata": {
        "id": "G-bSjY_Fqfwg"
      }
    },
    {
      "cell_type": "code",
      "source": [
        "df2['employment_type'].value_counts()"
      ],
      "metadata": {
        "colab": {
          "base_uri": "https://localhost:8080/"
        },
        "id": "-0qhRdNRqki5",
        "outputId": "201e919e-4329-4bd3-97e2-ce0683058edf"
      },
      "execution_count": 10,
      "outputs": [
        {
          "output_type": "execute_result",
          "data": {
            "text/plain": [
              "FT    517\n",
              "PT     10\n",
              "CT      5\n",
              "FL      4\n",
              "Name: employment_type, dtype: int64"
            ]
          },
          "metadata": {},
          "execution_count": 10
        }
      ]
    },
    {
      "cell_type": "markdown",
      "source": [
        "**Produce univariate visuals for the target and all features**"
      ],
      "metadata": {
        "id": "XdFANB0MrgaY"
      }
    },
    {
      "cell_type": "code",
      "source": [
        "# creating histogram of salaries\n",
        "\n",
        "sns.set(style = 'darkgrid')\n",
        "plt.figure(figsize=(16,8))\n",
        "\n",
        "sns.histplot(data=df2, x='salary_in_usd', color='green', edgecolor='black')\n",
        "plt.xlabel('Salary in USD', size=16, weight='semibold')\n",
        "plt.xticks(size=16)\n",
        "plt.ylabel('Count', size=16, weight='semibold')\n",
        "plt.yticks(size=14)\n",
        "\n",
        "plt.show();"
      ],
      "metadata": {
        "colab": {
          "base_uri": "https://localhost:8080/",
          "height": 510
        },
        "id": "t-sXSJGir1AS",
        "outputId": "ab394b08-66d8-4aa2-8889-f29405849bcf"
      },
      "execution_count": 11,
      "outputs": [
        {
          "output_type": "display_data",
          "data": {
            "text/plain": [
              "<Figure size 1152x576 with 1 Axes>"
            ],
            "image/png": "[encoded data removed]"
          },
          "metadata": {}
        }
      ]
    },
    {
      "cell_type": "markdown",
      "source": [
        "The above histogram displays the Salaries of Data Science careers in USD. As displayed, most careers average around 100k. There are a few outliers like 400k & 600k. The higher the salary, the more important that role could be."
      ],
      "metadata": {
        "id": "4gV_jpWe0Zjw"
      }
    },
    {
      "cell_type": "code",
      "source": [
        "# creating secondary histogram to display job titles \n",
        "\n",
        "sns.set(style = 'darkgrid')\n",
        "plt.figure(figsize=(12,14))\n",
        "\n",
        "sns.histplot(data=df2, y='job_title', color='yellow', edgecolor='black')\n",
        "plt.xlabel('Count', size=16, weight='semibold')\n",
        "plt.xticks(size=16)\n",
        "plt.ylabel('Job Title', size=16, weight='semibold')\n",
        "plt.yticks(size=10)\n",
        "\n",
        "plt.show();"
      ],
      "metadata": {
        "colab": {
          "base_uri": "https://localhost:8080/",
          "height": 835
        },
        "id": "8BHfql0MufMN",
        "outputId": "4976818e-e6a2-4a8e-f9bb-a11f31099d0c"
      },
      "execution_count": 12,
      "outputs": [
        {
          "output_type": "display_data",
          "data": {
            "text/plain": [
              "<Figure size 864x1008 with 1 Axes>"
            ],
            "image/png": "[encoded data removed]"
          },
          "metadata": {}
        }
      ]
    },
    {
      "cell_type": "markdown",
      "source": [
        "Our histogram above is displaying the amount of roles, alongside the amount of employees that sit in the role, in our dataset. We can see a majority of our employees from our dataset sits in the Data Scientist/Engineer role."
      ],
      "metadata": {
        "id": "Xk4bvyki09EF"
      }
    },
    {
      "cell_type": "code",
      "source": [
        "# creating boxplot of salaries\n",
        "\n",
        "sns.set(style='darkgrid')\n",
        "plt.figure(figsize = (12,10))\n",
        "\n",
        "sns.boxplot(data=df2, y='salary_in_usd', notch= True, color='Blue')\n",
        "plt.ylabel('Salary in USD', size=16, weight='semibold')\n",
        "plt.yticks(size=16)\n",
        "\n",
        "plt.show();"
      ],
      "metadata": {
        "colab": {
          "base_uri": "https://localhost:8080/",
          "height": 575
        },
        "id": "q40OixjPxIG1",
        "outputId": "55e86918-b5c6-412e-c184-a5d4d58e6d89"
      },
      "execution_count": 13,
      "outputs": [
        {
          "output_type": "display_data",
          "data": {
            "text/plain": [
              "<Figure size 864x720 with 1 Axes>"
            ],
            "image/png": "[encoded data removed]"
          },
          "metadata": {}
        }
      ]
    },
    {
      "cell_type": "markdown",
      "source": [
        "The boxplot displays the average salary range for the employees in our dataset. Majority of the provided data is in the range of 80k to 150k. The median salary sits just above 100k. Outliers are easily displayed, in compared to our histogram. "
      ],
      "metadata": {
        "id": "Mwa1lARhJ2GK"
      }
    },
    {
      "cell_type": "code",
      "source": [
        "# creating countplot defining x='work_year' and hue='remote_ratio'\n",
        "# CITING: https://stackoverflow.com/questions/34615854/seaborn-countplot-with-normalized-y-axis-per-group\n",
        "# CITING cont: using percentages on top of barplots\n",
        "\n",
        "sns.set_theme(style='darkgrid')\n",
        "\n",
        "x,y = 'work_year','remote_ratio'\n",
        "\n",
        "df3 = df2.groupby(x)[y].value_counts(normalize=True)\n",
        "df3 = df3.mul(100)\n",
        "df3 = df3.rename('percent').reset_index()\n",
        "\n",
        "z = sns.catplot(x=x, y='percent', hue=y, kind='bar', data=df3)\n",
        "z.ax.set_ylim(0,100)\n",
        "\n",
        "for g in z.ax.patches:\n",
        "    text = str(g.get_height().round(1)) + '%'\n",
        "    text_x = g.get_x()\n",
        "    text_y = g.get_height()\n",
        "    z.ax.text(text_x, text_y, text)\n",
        "\n",
        "plt.title('Yearly Percentage of Remote Workers', weight='bold', size=14)\n",
        "plt.show();"
      ],
      "metadata": {
        "colab": {
          "base_uri": "https://localhost:8080/",
          "height": 382
        },
        "id": "BUZzIvrFKo2j",
        "outputId": "1f571cb5-92cf-450e-f7b0-9a68733274f8"
      },
      "execution_count": 14,
      "outputs": [
        {
          "output_type": "display_data",
          "data": {
            "text/plain": [
              "<Figure size 445.925x360 with 1 Axes>"
            ],
            "image/png": "[encoded data removed]"
          },
          "metadata": {}
        }
      ]
    },
    {
      "cell_type": "markdown",
      "source": [
        "The above countplot displays the amount of employees that either worked in office, hybrid or remote throughout 2020 to 2022. We can see that remote work increased from '20 to '21 and a huge jump from '21 to '22. Office work did increase over the 2 years and hybrid decreased. Employee's had to have made a decision of which type of work they would rather do. "
      ],
      "metadata": {
        "id": "Tvrx7Trkf-IE"
      }
    },
    {
      "cell_type": "code",
      "source": [
        "# creating lineplot to display how much employee's make based on their employment type and the size of the company they work for\n",
        "sns.set_theme(style='darkgrid')\n",
        "sns.lineplot(data=df2, x='employment_type', y='salary_in_usd', hue='company_size')\n",
        "\n",
        "plt.title('Salaries based on Employment Type', weight='bold', size=16)\n",
        "plt.xlabel('Employment Type', weight='semibold')\n",
        "plt.xticks(size=12)\n",
        "plt.ylabel('Salary in USD', weight='semibold')\n",
        "plt.yticks(size=12)\n",
        "\n",
        "plt.show();"
      ],
      "metadata": {
        "colab": {
          "base_uri": "https://localhost:8080/",
          "height": 306
        },
        "id": "sIoExrWrbx_m",
        "outputId": "25c844a9-d06b-4db0-c174-cc66e4aa7d76"
      },
      "execution_count": 15,
      "outputs": [
        {
          "output_type": "display_data",
          "data": {
            "text/plain": [
              "<Figure size 432x288 with 1 Axes>"
            ],
            "image/png": "[encoded data removed]"
          },
          "metadata": {}
        }
      ]
    },
    {
      "cell_type": "markdown",
      "source": [
        "Our lineplot shows the salaries of employee's based on their employment type. Small companies has a very big outlier when it comes to their CT type(contract work). This specific employee must have had a really good contract with a known consumer to land that salary. Both Large and Small companies pay their contract workers more, yet Medium sized companies pay all their non-FullTime employee's less on average. Free lance employee's dont get much of a salary, as do Part Time employees. "
      ],
      "metadata": {
        "id": "g4n_jl7nga2g"
      }
    },
    {
      "cell_type": "code",
      "source": [
        "# calulate mean of salaries based on job title using median\n",
        "# CITING: https://stackoverflow.com/questions/53771596/how-to-find-average-salary-for-each-job-role-from-a-file-in-python\n",
        "# CITING: https://betterprogramming.pub/visualize-charts-using-groupby-and-aggregate-python-functions-56454820a25c\n",
        "# using groupby to gather information salary of job titles per year\n",
        "# pivoting dataframe for better visualization\n",
        "# dropping all NaN values\n",
        "job_salary = df2.groupby(['job_title', 'work_year']).agg({'salary_in_usd':'median'})\n",
        "job_salary = job_salary.pivot_table(index='work_year', columns='job_title', values='salary_in_usd')\n",
        "job_salary.dropna(axis=1, inplace=True)\n",
        "job_salary"
      ],
      "metadata": {
        "colab": {
          "base_uri": "https://localhost:8080/",
          "height": 175
        },
        "id": "1HbfbvdQscux",
        "outputId": "d6b3b8e4-72b8-4e95-fafd-37b7d594ad41"
      },
      "execution_count": 16,
      "outputs": [
        {
          "output_type": "execute_result",
          "data": {
            "text/plain": [
              "job_title  AI Scientist  Business Data Analyst  Computer Vision Engineer  \\\n",
              "work_year                                                                  \n",
              "2020            45896.0               117500.0                   60000.0   \n",
              "2021            15026.5                59102.0                   24000.0   \n",
              "2022           160000.0                44677.0                   67500.0   \n",
              "\n",
              "job_title  Data Analyst  Data Engineer  Data Science Manager  Data Scientist  \\\n",
              "work_year                                                                      \n",
              "2020            46759.0        74130.0              190200.0         62726.0   \n",
              "2021            75000.0        74666.5              148000.0         61467.0   \n",
              "2022           106260.0       108800.0              159000.0        130000.0   \n",
              "\n",
              "job_title  Director of Data Science  Lead Data Engineer  ML Engineer  \\\n",
              "work_year                                                              \n",
              "2020                       325000.0             90500.0      15966.0   \n",
              "2021                       153667.0            160000.0     166682.0   \n",
              "2022                       196979.0            118187.0      21983.0   \n",
              "\n",
              "job_title  Machine Learning Engineer  \\\n",
              "work_year                              \n",
              "2020                        138000.0   \n",
              "2021                         70132.5   \n",
              "2022                        109079.0   \n",
              "\n",
              "job_title  Machine Learning Infrastructure Engineer  \\\n",
              "work_year                                             \n",
              "2020                                        50180.0   \n",
              "2021                                       195000.0   \n",
              "2022                                        58255.0   \n",
              "\n",
              "job_title  Machine Learning Scientist  Principal Data Scientist  \\\n",
              "work_year                                                         \n",
              "2020                         260000.0                  148261.0   \n",
              "2021                         172500.0                  220000.0   \n",
              "2022                         153000.0                  162674.0   \n",
              "\n",
              "job_title  Research Scientist  \n",
              "work_year                      \n",
              "2020                 246000.0  \n",
              "2021                  66904.5  \n",
              "2022                 106713.5  "
            ],
            "text/html": [
              "\n",
              "  <div id=\"df-914e756b-92c4-4665-8ee6-d774ff8443c7\">\n",
              "    <div class=\"colab-df-container\">\n",
              "      <div>\n",
              "<style scoped>\n",
              "    .dataframe tbody tr th:only-of-type {\n",
              "        vertical-align: middle;\n",
              "    }\n",
              "\n",
              "    .dataframe tbody tr th {\n",
              "        vertical-align: top;\n",
              "    }\n",
              "\n",
              "    .dataframe thead th {\n",
              "        text-align: right;\n",
              "    }\n",
              "</style>\n",
              "<table border=\"1\" class=\"dataframe\">\n",
              "  <thead>\n",
              "    <tr style=\"text-align: right;\">\n",
              "      <th>job_title</th>\n",
              "      <th>AI Scientist</th>\n",
              "      <th>Business Data Analyst</th>\n",
              "      <th>Computer Vision Engineer</th>\n",
              "      <th>Data Analyst</th>\n",
              "      <th>Data Engineer</th>\n",
              "      <th>Data Science Manager</th>\n",
              "      <th>Data Scientist</th>\n",
              "      <th>Director of Data Science</th>\n",
              "      <th>Lead Data Engineer</th>\n",
              "      <th>ML Engineer</th>\n",
              "      <th>Machine Learning Engineer</th>\n",
              "      <th>Machine Learning Infrastructure Engineer</th>\n",
              "      <th>Machine Learning Scientist</th>\n",
              "      <th>Principal Data Scientist</th>\n",
              "      <th>Research Scientist</th>\n",
              "    </tr>\n",
              "    <tr>\n",
              "      <th>work_year</th>\n",
              "      <th></th>\n",
              "      <th></th>\n",
              "      <th></th>\n",
              "      <th></th>\n",
              "      <th></th>\n",
              "      <th></th>\n",
              "      <th></th>\n",
              "      <th></th>\n",
              "      <th></th>\n",
              "      <th></th>\n",
              "      <th></th>\n",
              "      <th></th>\n",
              "      <th></th>\n",
              "      <th></th>\n",
              "      <th></th>\n",
              "    </tr>\n",
              "  </thead>\n",
              "  <tbody>\n",
              "    <tr>\n",
              "      <th>2020</th>\n",
              "      <td>45896.0</td>\n",
              "      <td>117500.0</td>\n",
              "      <td>60000.0</td>\n",
              "      <td>46759.0</td>\n",
              "      <td>74130.0</td>\n",
              "      <td>190200.0</td>\n",
              "      <td>62726.0</td>\n",
              "      <td>325000.0</td>\n",
              "      <td>90500.0</td>\n",
              "      <td>15966.0</td>\n",
              "      <td>138000.0</td>\n",
              "      <td>50180.0</td>\n",
              "      <td>260000.0</td>\n",
              "      <td>148261.0</td>\n",
              "      <td>246000.0</td>\n",
              "    </tr>\n",
              "    <tr>\n",
              "      <th>2021</th>\n",
              "      <td>15026.5</td>\n",
              "      <td>59102.0</td>\n",
              "      <td>24000.0</td>\n",
              "      <td>75000.0</td>\n",
              "      <td>74666.5</td>\n",
              "      <td>148000.0</td>\n",
              "      <td>61467.0</td>\n",
              "      <td>153667.0</td>\n",
              "      <td>160000.0</td>\n",
              "      <td>166682.0</td>\n",
              "      <td>70132.5</td>\n",
              "      <td>195000.0</td>\n",
              "      <td>172500.0</td>\n",
              "      <td>220000.0</td>\n",
              "      <td>66904.5</td>\n",
              "    </tr>\n",
              "    <tr>\n",
              "      <th>2022</th>\n",
              "      <td>160000.0</td>\n",
              "      <td>44677.0</td>\n",
              "      <td>67500.0</td>\n",
              "      <td>106260.0</td>\n",
              "      <td>108800.0</td>\n",
              "      <td>159000.0</td>\n",
              "      <td>130000.0</td>\n",
              "      <td>196979.0</td>\n",
              "      <td>118187.0</td>\n",
              "      <td>21983.0</td>\n",
              "      <td>109079.0</td>\n",
              "      <td>58255.0</td>\n",
              "      <td>153000.0</td>\n",
              "      <td>162674.0</td>\n",
              "      <td>106713.5</td>\n",
              "    </tr>\n",
              "  </tbody>\n",
              "</table>\n",
              "</div>\n",
              "      <button class=\"colab-df-convert\" onclick=\"convertToInteractive('df-914e756b-92c4-4665-8ee6-d774ff8443c7')\"\n",
              "              title=\"Convert this dataframe to an interactive table.\"\n",
              "              style=\"display:none;\">\n",
              "        \n",
              "  <svg xmlns=\"http://www.w3.org/2000/svg\" height=\"24px\"viewBox=\"0 0 24 24\"\n",
              "       width=\"24px\">\n",
              "    <path d=\"M0 0h24v24H0V0z\" fill=\"none\"/>\n",
              "    <path d=\"M18.56 5.44l.94 2.06.94-2.06 2.06-.94-2.06-.94-.94-2.06-.94 2.06-2.06.94zm-11 1L8.5 8.5l.94-2.06 2.06-.94-2.06-.94L8.5 2.5l-.94 2.06-2.06.94zm10 10l.94 2.06.94-2.06 2.06-.94-2.06-.94-.94-2.06-.94 2.06-2.06.94z\"/><path d=\"M17.41 7.96l-1.37-1.37c-.4-.4-.92-.59-1.43-.59-.52 0-1.04.2-1.43.59L10.3 9.45l-7.72 7.72c-.78.78-.78 2.05 0 2.83L4 21.41c.39.39.9.59 1.41.59.51 0 1.02-.2 1.41-.59l7.78-7.78 2.81-2.81c.8-.78.8-2.07 0-2.86zM5.41 20L4 18.59l7.72-7.72 1.47 1.35L5.41 20z\"/>\n",
              "  </svg>\n",
              "      </button>\n",
              "      \n",
              "  <style>\n",
              "    .colab-df-container {\n",
              "      display:flex;\n",
              "      flex-wrap:wrap;\n",
              "      gap: 12px;\n",
              "    }\n",
              "\n",
              "    .colab-df-convert {\n",
              "      background-color: #E8F0FE;\n",
              "      border: none;\n",
              "      border-radius: 50%;\n",
              "      cursor: pointer;\n",
              "      display: none;\n",
              "      fill: #1967D2;\n",
              "      height: 32px;\n",
              "      padding: 0 0 0 0;\n",
              "      width: 32px;\n",
              "    }\n",
              "\n",
              "    .colab-df-convert:hover {\n",
              "      background-color: #E2EBFA;\n",
              "      box-shadow: 0px 1px 2px rgba(60, 64, 67, 0.3), 0px 1px 3px 1px rgba(60, 64, 67, 0.15);\n",
              "      fill: #174EA6;\n",
              "    }\n",
              "\n",
              "    [theme=dark] .colab-df-convert {\n",
              "      background-color: #3B4455;\n",
              "      fill: #D2E3FC;\n",
              "    }\n",
              "\n",
              "    [theme=dark] .colab-df-convert:hover {\n",
              "      background-color: #434B5C;\n",
              "      box-shadow: 0px 1px 3px 1px rgba(0, 0, 0, 0.15);\n",
              "      filter: drop-shadow(0px 1px 2px rgba(0, 0, 0, 0.3));\n",
              "      fill: #FFFFFF;\n",
              "    }\n",
              "  </style>\n",
              "\n",
              "      <script>\n",
              "        const buttonEl =\n",
              "          document.querySelector('#df-914e756b-92c4-4665-8ee6-d774ff8443c7 button.colab-df-convert');\n",
              "        buttonEl.style.display =\n",
              "          google.colab.kernel.accessAllowed ? 'block' : 'none';\n",
              "\n",
              "        async function convertToInteractive(key) {\n",
              "          const element = document.querySelector('#df-914e756b-92c4-4665-8ee6-d774ff8443c7');\n",
              "          const dataTable =\n",
              "            await google.colab.kernel.invokeFunction('convertToInteractive',\n",
              "                                                     [key], {});\n",
              "          if (!dataTable) return;\n",
              "\n",
              "          const docLinkHtml = 'Like what you see? Visit the ' +\n",
              "            '<a target=\"_blank\" href=https://colab.research.google.com/notebooks/data_table.ipynb>data table notebook</a>'\n",
              "            + ' to learn more about interactive tables.';\n",
              "          element.innerHTML = '';\n",
              "          dataTable['output_type'] = 'display_data';\n",
              "          await google.colab.output.renderOutput(dataTable, element);\n",
              "          const docLink = document.createElement('div');\n",
              "          docLink.innerHTML = docLinkHtml;\n",
              "          element.appendChild(docLink);\n",
              "        }\n",
              "      </script>\n",
              "    </div>\n",
              "  </div>\n",
              "  "
            ]
          },
          "metadata": {},
          "execution_count": 16
        }
      ]
    },
    {
      "cell_type": "code",
      "source": [
        "job_salary.describe()"
      ],
      "metadata": {
        "colab": {
          "base_uri": "https://localhost:8080/",
          "height": 300
        },
        "id": "J_Q1onMVzK3O",
        "outputId": "9e45a711-d3c3-4bca-f4ed-317beaecf1af"
      },
      "execution_count": 17,
      "outputs": [
        {
          "output_type": "execute_result",
          "data": {
            "text/plain": [
              "job_title   AI Scientist  Business Data Analyst  Computer Vision Engineer  \\\n",
              "count           3.000000               3.000000                  3.000000   \n",
              "mean        73640.833333           73759.666667              50500.000000   \n",
              "std         76365.311222           38560.766672              23254.031908   \n",
              "min         15026.500000           44677.000000              24000.000000   \n",
              "25%         30461.250000           51889.500000              42000.000000   \n",
              "50%         45896.000000           59102.000000              60000.000000   \n",
              "75%        102948.000000           88301.000000              63750.000000   \n",
              "max        160000.000000          117500.000000              67500.000000   \n",
              "\n",
              "job_title   Data Analyst  Data Engineer  Data Science Manager  Data Scientist  \\\n",
              "count           3.000000       3.000000              3.000000        3.000000   \n",
              "mean        76006.333333   85865.500000         165733.333333    84731.000000   \n",
              "std         29763.262260   19863.671004          21890.941810    39209.157617   \n",
              "min         46759.000000   74130.000000         148000.000000    61467.000000   \n",
              "25%         60879.500000   74398.250000         153500.000000    62096.500000   \n",
              "50%         75000.000000   74666.500000         159000.000000    62726.000000   \n",
              "75%         90630.000000   91733.250000         174600.000000    96363.000000   \n",
              "max        106260.000000  108800.000000         190200.000000   130000.000000   \n",
              "\n",
              "job_title  Director of Data Science  Lead Data Engineer    ML Engineer  \\\n",
              "count                      3.000000            3.000000       3.000000   \n",
              "mean                  225215.333333       122895.666667   68210.333333   \n",
              "std                    89088.254626        34988.443182   85332.015823   \n",
              "min                   153667.000000        90500.000000   15966.000000   \n",
              "25%                   175323.000000       104343.500000   18974.500000   \n",
              "50%                   196979.000000       118187.000000   21983.000000   \n",
              "75%                   260989.500000       139093.500000   94332.500000   \n",
              "max                   325000.000000       160000.000000  166682.000000   \n",
              "\n",
              "job_title  Machine Learning Engineer  \\\n",
              "count                       3.000000   \n",
              "mean                   105737.166667   \n",
              "std                     34056.941680   \n",
              "min                     70132.500000   \n",
              "25%                     89605.750000   \n",
              "50%                    109079.000000   \n",
              "75%                    123539.500000   \n",
              "max                    138000.000000   \n",
              "\n",
              "job_title  Machine Learning Infrastructure Engineer  \\\n",
              "count                                      3.000000   \n",
              "mean                                  101145.000000   \n",
              "std                                    81381.030806   \n",
              "min                                    50180.000000   \n",
              "25%                                    54217.500000   \n",
              "50%                                    58255.000000   \n",
              "75%                                   126627.500000   \n",
              "max                                   195000.000000   \n",
              "\n",
              "job_title  Machine Learning Scientist  Principal Data Scientist  \\\n",
              "count                        3.000000                  3.000000   \n",
              "mean                    195166.666667             176978.333333   \n",
              "std                      56987.571744              37948.405689   \n",
              "min                     153000.000000             148261.000000   \n",
              "25%                     162750.000000             155467.500000   \n",
              "50%                     172500.000000             162674.000000   \n",
              "75%                     216250.000000             191337.000000   \n",
              "max                     260000.000000             220000.000000   \n",
              "\n",
              "job_title  Research Scientist  \n",
              "count                3.000000  \n",
              "mean            139872.666667  \n",
              "std              94039.604851  \n",
              "min              66904.500000  \n",
              "25%              86809.000000  \n",
              "50%             106713.500000  \n",
              "75%             176356.750000  \n",
              "max             246000.000000  "
            ],
            "text/html": [
              "\n",
              "  <div id=\"df-89eeab60-b5d2-41fa-b176-7c886e07de84\">\n",
              "    <div class=\"colab-df-container\">\n",
              "      <div>\n",
              "<style scoped>\n",
              "    .dataframe tbody tr th:only-of-type {\n",
              "        vertical-align: middle;\n",
              "    }\n",
              "\n",
              "    .dataframe tbody tr th {\n",
              "        vertical-align: top;\n",
              "    }\n",
              "\n",
              "    .dataframe thead th {\n",
              "        text-align: right;\n",
              "    }\n",
              "</style>\n",
              "<table border=\"1\" class=\"dataframe\">\n",
              "  <thead>\n",
              "    <tr style=\"text-align: right;\">\n",
              "      <th>job_title</th>\n",
              "      <th>AI Scientist</th>\n",
              "      <th>Business Data Analyst</th>\n",
              "      <th>Computer Vision Engineer</th>\n",
              "      <th>Data Analyst</th>\n",
              "      <th>Data Engineer</th>\n",
              "      <th>Data Science Manager</th>\n",
              "      <th>Data Scientist</th>\n",
              "      <th>Director of Data Science</th>\n",
              "      <th>Lead Data Engineer</th>\n",
              "      <th>ML Engineer</th>\n",
              "      <th>Machine Learning Engineer</th>\n",
              "      <th>Machine Learning Infrastructure Engineer</th>\n",
              "      <th>Machine Learning Scientist</th>\n",
              "      <th>Principal Data Scientist</th>\n",
              "      <th>Research Scientist</th>\n",
              "    </tr>\n",
              "  </thead>\n",
              "  <tbody>\n",
              "    <tr>\n",
              "      <th>count</th>\n",
              "      <td>3.000000</td>\n",
              "      <td>3.000000</td>\n",
              "      <td>3.000000</td>\n",
              "      <td>3.000000</td>\n",
              "      <td>3.000000</td>\n",
              "      <td>3.000000</td>\n",
              "      <td>3.000000</td>\n",
              "      <td>3.000000</td>\n",
              "      <td>3.000000</td>\n",
              "      <td>3.000000</td>\n",
              "      <td>3.000000</td>\n",
              "      <td>3.000000</td>\n",
              "      <td>3.000000</td>\n",
              "      <td>3.000000</td>\n",
              "      <td>3.000000</td>\n",
              "    </tr>\n",
              "    <tr>\n",
              "      <th>mean</th>\n",
              "      <td>73640.833333</td>\n",
              "      <td>73759.666667</td>\n",
              "      <td>50500.000000</td>\n",
              "      <td>76006.333333</td>\n",
              "      <td>85865.500000</td>\n",
              "      <td>165733.333333</td>\n",
              "      <td>84731.000000</td>\n",
              "      <td>225215.333333</td>\n",
              "      <td>122895.666667</td>\n",
              "      <td>68210.333333</td>\n",
              "      <td>105737.166667</td>\n",
              "      <td>101145.000000</td>\n",
              "      <td>195166.666667</td>\n",
              "      <td>176978.333333</td>\n",
              "      <td>139872.666667</td>\n",
              "    </tr>\n",
              "    <tr>\n",
              "      <th>std</th>\n",
              "      <td>76365.311222</td>\n",
              "      <td>38560.766672</td>\n",
              "      <td>23254.031908</td>\n",
              "      <td>29763.262260</td>\n",
              "      <td>19863.671004</td>\n",
              "      <td>21890.941810</td>\n",
              "      <td>39209.157617</td>\n",
              "      <td>89088.254626</td>\n",
              "      <td>34988.443182</td>\n",
              "      <td>85332.015823</td>\n",
              "      <td>34056.941680</td>\n",
              "      <td>81381.030806</td>\n",
              "      <td>56987.571744</td>\n",
              "      <td>37948.405689</td>\n",
              "      <td>94039.604851</td>\n",
              "    </tr>\n",
              "    <tr>\n",
              "      <th>min</th>\n",
              "      <td>15026.500000</td>\n",
              "      <td>44677.000000</td>\n",
              "      <td>24000.000000</td>\n",
              "      <td>46759.000000</td>\n",
              "      <td>74130.000000</td>\n",
              "      <td>148000.000000</td>\n",
              "      <td>61467.000000</td>\n",
              "      <td>153667.000000</td>\n",
              "      <td>90500.000000</td>\n",
              "      <td>15966.000000</td>\n",
              "      <td>70132.500000</td>\n",
              "      <td>50180.000000</td>\n",
              "      <td>153000.000000</td>\n",
              "      <td>148261.000000</td>\n",
              "      <td>66904.500000</td>\n",
              "    </tr>\n",
              "    <tr>\n",
              "      <th>25%</th>\n",
              "      <td>30461.250000</td>\n",
              "      <td>51889.500000</td>\n",
              "      <td>42000.000000</td>\n",
              "      <td>60879.500000</td>\n",
              "      <td>74398.250000</td>\n",
              "      <td>153500.000000</td>\n",
              "      <td>62096.500000</td>\n",
              "      <td>175323.000000</td>\n",
              "      <td>104343.500000</td>\n",
              "      <td>18974.500000</td>\n",
              "      <td>89605.750000</td>\n",
              "      <td>54217.500000</td>\n",
              "      <td>162750.000000</td>\n",
              "      <td>155467.500000</td>\n",
              "      <td>86809.000000</td>\n",
              "    </tr>\n",
              "    <tr>\n",
              "      <th>50%</th>\n",
              "      <td>45896.000000</td>\n",
              "      <td>59102.000000</td>\n",
              "      <td>60000.000000</td>\n",
              "      <td>75000.000000</td>\n",
              "      <td>74666.500000</td>\n",
              "      <td>159000.000000</td>\n",
              "      <td>62726.000000</td>\n",
              "      <td>196979.000000</td>\n",
              "      <td>118187.000000</td>\n",
              "      <td>21983.000000</td>\n",
              "      <td>109079.000000</td>\n",
              "      <td>58255.000000</td>\n",
              "      <td>172500.000000</td>\n",
              "      <td>162674.000000</td>\n",
              "      <td>106713.500000</td>\n",
              "    </tr>\n",
              "    <tr>\n",
              "      <th>75%</th>\n",
              "      <td>102948.000000</td>\n",
              "      <td>88301.000000</td>\n",
              "      <td>63750.000000</td>\n",
              "      <td>90630.000000</td>\n",
              "      <td>91733.250000</td>\n",
              "      <td>174600.000000</td>\n",
              "      <td>96363.000000</td>\n",
              "      <td>260989.500000</td>\n",
              "      <td>139093.500000</td>\n",
              "      <td>94332.500000</td>\n",
              "      <td>123539.500000</td>\n",
              "      <td>126627.500000</td>\n",
              "      <td>216250.000000</td>\n",
              "      <td>191337.000000</td>\n",
              "      <td>176356.750000</td>\n",
              "    </tr>\n",
              "    <tr>\n",
              "      <th>max</th>\n",
              "      <td>160000.000000</td>\n",
              "      <td>117500.000000</td>\n",
              "      <td>67500.000000</td>\n",
              "      <td>106260.000000</td>\n",
              "      <td>108800.000000</td>\n",
              "      <td>190200.000000</td>\n",
              "      <td>130000.000000</td>\n",
              "      <td>325000.000000</td>\n",
              "      <td>160000.000000</td>\n",
              "      <td>166682.000000</td>\n",
              "      <td>138000.000000</td>\n",
              "      <td>195000.000000</td>\n",
              "      <td>260000.000000</td>\n",
              "      <td>220000.000000</td>\n",
              "      <td>246000.000000</td>\n",
              "    </tr>\n",
              "  </tbody>\n",
              "</table>\n",
              "</div>\n",
              "      <button class=\"colab-df-convert\" onclick=\"convertToInteractive('df-89eeab60-b5d2-41fa-b176-7c886e07de84')\"\n",
              "              title=\"Convert this dataframe to an interactive table.\"\n",
              "              style=\"display:none;\">\n",
              "        \n",
              "  <svg xmlns=\"http://www.w3.org/2000/svg\" height=\"24px\"viewBox=\"0 0 24 24\"\n",
              "       width=\"24px\">\n",
              "    <path d=\"M0 0h24v24H0V0z\" fill=\"none\"/>\n",
              "    <path d=\"M18.56 5.44l.94 2.06.94-2.06 2.06-.94-2.06-.94-.94-2.06-.94 2.06-2.06.94zm-11 1L8.5 8.5l.94-2.06 2.06-.94-2.06-.94L8.5 2.5l-.94 2.06-2.06.94zm10 10l.94 2.06.94-2.06 2.06-.94-2.06-.94-.94-2.06-.94 2.06-2.06.94z\"/><path d=\"M17.41 7.96l-1.37-1.37c-.4-.4-.92-.59-1.43-.59-.52 0-1.04.2-1.43.59L10.3 9.45l-7.72 7.72c-.78.78-.78 2.05 0 2.83L4 21.41c.39.39.9.59 1.41.59.51 0 1.02-.2 1.41-.59l7.78-7.78 2.81-2.81c.8-.78.8-2.07 0-2.86zM5.41 20L4 18.59l7.72-7.72 1.47 1.35L5.41 20z\"/>\n",
              "  </svg>\n",
              "      </button>\n",
              "      \n",
              "  <style>\n",
              "    .colab-df-container {\n",
              "      display:flex;\n",
              "      flex-wrap:wrap;\n",
              "      gap: 12px;\n",
              "    }\n",
              "\n",
              "    .colab-df-convert {\n",
              "      background-color: #E8F0FE;\n",
              "      border: none;\n",
              "      border-radius: 50%;\n",
              "      cursor: pointer;\n",
              "      display: none;\n",
              "      fill: #1967D2;\n",
              "      height: 32px;\n",
              "      padding: 0 0 0 0;\n",
              "      width: 32px;\n",
              "    }\n",
              "\n",
              "    .colab-df-convert:hover {\n",
              "      background-color: #E2EBFA;\n",
              "      box-shadow: 0px 1px 2px rgba(60, 64, 67, 0.3), 0px 1px 3px 1px rgba(60, 64, 67, 0.15);\n",
              "      fill: #174EA6;\n",
              "    }\n",
              "\n",
              "    [theme=dark] .colab-df-convert {\n",
              "      background-color: #3B4455;\n",
              "      fill: #D2E3FC;\n",
              "    }\n",
              "\n",
              "    [theme=dark] .colab-df-convert:hover {\n",
              "      background-color: #434B5C;\n",
              "      box-shadow: 0px 1px 3px 1px rgba(0, 0, 0, 0.15);\n",
              "      filter: drop-shadow(0px 1px 2px rgba(0, 0, 0, 0.3));\n",
              "      fill: #FFFFFF;\n",
              "    }\n",
              "  </style>\n",
              "\n",
              "      <script>\n",
              "        const buttonEl =\n",
              "          document.querySelector('#df-89eeab60-b5d2-41fa-b176-7c886e07de84 button.colab-df-convert');\n",
              "        buttonEl.style.display =\n",
              "          google.colab.kernel.accessAllowed ? 'block' : 'none';\n",
              "\n",
              "        async function convertToInteractive(key) {\n",
              "          const element = document.querySelector('#df-89eeab60-b5d2-41fa-b176-7c886e07de84');\n",
              "          const dataTable =\n",
              "            await google.colab.kernel.invokeFunction('convertToInteractive',\n",
              "                                                     [key], {});\n",
              "          if (!dataTable) return;\n",
              "\n",
              "          const docLinkHtml = 'Like what you see? Visit the ' +\n",
              "            '<a target=\"_blank\" href=https://colab.research.google.com/notebooks/data_table.ipynb>data table notebook</a>'\n",
              "            + ' to learn more about interactive tables.';\n",
              "          element.innerHTML = '';\n",
              "          dataTable['output_type'] = 'display_data';\n",
              "          await google.colab.output.renderOutput(dataTable, element);\n",
              "          const docLink = document.createElement('div');\n",
              "          docLink.innerHTML = docLinkHtml;\n",
              "          element.appendChild(docLink);\n",
              "        }\n",
              "      </script>\n",
              "    </div>\n",
              "  </div>\n",
              "  "
            ]
          },
          "metadata": {},
          "execution_count": 17
        }
      ]
    },
    {
      "cell_type": "code",
      "source": [
        "# creating barplot to display salaries based on job title \n",
        "\n",
        "sns.set(style = 'darkgrid')\n",
        "sns.color_palette(\"Paired\")\n",
        "\n",
        "job_salary.plot.bar(figsize=(24,16))\n",
        "plt.title('Data Science Career Salaries per Year', weight='bold', size=24)\n",
        "plt.xlabel('Work Year', weight='semibold', size=20)\n",
        "plt.xticks(rotation=0)\n",
        "plt.ylabel('Salary in USD', weight='semibold', size=20)\n",
        "plt.show();"
      ],
      "metadata": {
        "colab": {
          "base_uri": "https://localhost:8080/",
          "height": 968
        },
        "id": "l7HzXpCMro1g",
        "outputId": "c5dac663-81d0-483e-ee0e-3d97e5f23454"
      },
      "execution_count": 18,
      "outputs": [
        {
          "output_type": "display_data",
          "data": {
            "text/plain": [
              "<Figure size 1728x1152 with 1 Axes>"
            ],
            "image/png": "[encoded data removed]"
          },
          "metadata": {}
        }
      ]
    },
    {
      "cell_type": "markdown",
      "source": [
        "Displayed above are the salaries of our Data Science careers from 2020 to 2022. We created a brand new dataframe and removed all job titles that had no salary provided. According to our visualization, in 2020 there were a few outliers (Director of Data Science, Machine Learning Scientist and Research Scientist). For those looking to become Data Analysts/Scientists, we can see their salaries have either remained steady or increased over the past few years. Data Analysts have seen a big increase in salary, now sitting around $100k. "
      ],
      "metadata": {
        "id": "qm74F8nCCjrc"
      }
    },
    {
      "cell_type": "markdown",
      "source": [
        "#**Model Development**"
      ],
      "metadata": {
        "id": "7gZAIbLZ-VIY"
      }
    },
    {
      "cell_type": "markdown",
      "source": [
        "**Preprocessing Data**"
      ],
      "metadata": {
        "id": "pIdgiMi3mAv9"
      }
    },
    {
      "cell_type": "code",
      "source": [
        "# create copy of df for ML\n",
        "df_ml = df2.copy()\n",
        "df_ml.drop(columns=['job_title'], inplace=True)\n",
        "df_ml.head()"
      ],
      "metadata": {
        "colab": {
          "base_uri": "https://localhost:8080/",
          "height": 206
        },
        "id": "ecwyd3JT-fNh",
        "outputId": "b2bb48ff-1136-466d-ff36-1f611e121967"
      },
      "execution_count": 19,
      "outputs": [
        {
          "output_type": "execute_result",
          "data": {
            "text/plain": [
              "   work_year experience_level employment_type  salary_in_usd  \\\n",
              "0       2020               MI              FT          79833   \n",
              "1       2020               SE              FT         260000   \n",
              "2       2020               SE              FT         109024   \n",
              "3       2020               MI              FT          20000   \n",
              "4       2020               SE              FT         150000   \n",
              "\n",
              "  employee_residence  remote_ratio company_size  \n",
              "0                 DE             0            L  \n",
              "1                 JP             0            S  \n",
              "2                 GB            50            M  \n",
              "3                 HN             0            S  \n",
              "4                 US            50            L  "
            ],
            "text/html": [
              "\n",
              "  <div id=\"df-1b16e2d0-be9a-42f2-a42d-35f399492ef6\">\n",
              "    <div class=\"colab-df-container\">\n",
              "      <div>\n",
              "<style scoped>\n",
              "    .dataframe tbody tr th:only-of-type {\n",
              "        vertical-align: middle;\n",
              "    }\n",
              "\n",
              "    .dataframe tbody tr th {\n",
              "        vertical-align: top;\n",
              "    }\n",
              "\n",
              "    .dataframe thead th {\n",
              "        text-align: right;\n",
              "    }\n",
              "</style>\n",
              "<table border=\"1\" class=\"dataframe\">\n",
              "  <thead>\n",
              "    <tr style=\"text-align: right;\">\n",
              "      <th></th>\n",
              "      <th>work_year</th>\n",
              "      <th>experience_level</th>\n",
              "      <th>employment_type</th>\n",
              "      <th>salary_in_usd</th>\n",
              "      <th>employee_residence</th>\n",
              "      <th>remote_ratio</th>\n",
              "      <th>company_size</th>\n",
              "    </tr>\n",
              "  </thead>\n",
              "  <tbody>\n",
              "    <tr>\n",
              "      <th>0</th>\n",
              "      <td>2020</td>\n",
              "      <td>MI</td>\n",
              "      <td>FT</td>\n",
              "      <td>79833</td>\n",
              "      <td>DE</td>\n",
              "      <td>0</td>\n",
              "      <td>L</td>\n",
              "    </tr>\n",
              "    <tr>\n",
              "      <th>1</th>\n",
              "      <td>2020</td>\n",
              "      <td>SE</td>\n",
              "      <td>FT</td>\n",
              "      <td>260000</td>\n",
              "      <td>JP</td>\n",
              "      <td>0</td>\n",
              "      <td>S</td>\n",
              "    </tr>\n",
              "    <tr>\n",
              "      <th>2</th>\n",
              "      <td>2020</td>\n",
              "      <td>SE</td>\n",
              "      <td>FT</td>\n",
              "      <td>109024</td>\n",
              "      <td>GB</td>\n",
              "      <td>50</td>\n",
              "      <td>M</td>\n",
              "    </tr>\n",
              "    <tr>\n",
              "      <th>3</th>\n",
              "      <td>2020</td>\n",
              "      <td>MI</td>\n",
              "      <td>FT</td>\n",
              "      <td>20000</td>\n",
              "      <td>HN</td>\n",
              "      <td>0</td>\n",
              "      <td>S</td>\n",
              "    </tr>\n",
              "    <tr>\n",
              "      <th>4</th>\n",
              "      <td>2020</td>\n",
              "      <td>SE</td>\n",
              "      <td>FT</td>\n",
              "      <td>150000</td>\n",
              "      <td>US</td>\n",
              "      <td>50</td>\n",
              "      <td>L</td>\n",
              "    </tr>\n",
              "  </tbody>\n",
              "</table>\n",
              "</div>\n",
              "      <button class=\"colab-df-convert\" onclick=\"convertToInteractive('df-1b16e2d0-be9a-42f2-a42d-35f399492ef6')\"\n",
              "              title=\"Convert this dataframe to an interactive table.\"\n",
              "              style=\"display:none;\">\n",
              "        \n",
              "  <svg xmlns=\"http://www.w3.org/2000/svg\" height=\"24px\"viewBox=\"0 0 24 24\"\n",
              "       width=\"24px\">\n",
              "    <path d=\"M0 0h24v24H0V0z\" fill=\"none\"/>\n",
              "    <path d=\"M18.56 5.44l.94 2.06.94-2.06 2.06-.94-2.06-.94-.94-2.06-.94 2.06-2.06.94zm-11 1L8.5 8.5l.94-2.06 2.06-.94-2.06-.94L8.5 2.5l-.94 2.06-2.06.94zm10 10l.94 2.06.94-2.06 2.06-.94-2.06-.94-.94-2.06-.94 2.06-2.06.94z\"/><path d=\"M17.41 7.96l-1.37-1.37c-.4-.4-.92-.59-1.43-.59-.52 0-1.04.2-1.43.59L10.3 9.45l-7.72 7.72c-.78.78-.78 2.05 0 2.83L4 21.41c.39.39.9.59 1.41.59.51 0 1.02-.2 1.41-.59l7.78-7.78 2.81-2.81c.8-.78.8-2.07 0-2.86zM5.41 20L4 18.59l7.72-7.72 1.47 1.35L5.41 20z\"/>\n",
              "  </svg>\n",
              "      </button>\n",
              "      \n",
              "  <style>\n",
              "    .colab-df-container {\n",
              "      display:flex;\n",
              "      flex-wrap:wrap;\n",
              "      gap: 12px;\n",
              "    }\n",
              "\n",
              "    .colab-df-convert {\n",
              "      background-color: #E8F0FE;\n",
              "      border: none;\n",
              "      border-radius: 50%;\n",
              "      cursor: pointer;\n",
              "      display: none;\n",
              "      fill: #1967D2;\n",
              "      height: 32px;\n",
              "      padding: 0 0 0 0;\n",
              "      width: 32px;\n",
              "    }\n",
              "\n",
              "    .colab-df-convert:hover {\n",
              "      background-color: #E2EBFA;\n",
              "      box-shadow: 0px 1px 2px rgba(60, 64, 67, 0.3), 0px 1px 3px 1px rgba(60, 64, 67, 0.15);\n",
              "      fill: #174EA6;\n",
              "    }\n",
              "\n",
              "    [theme=dark] .colab-df-convert {\n",
              "      background-color: #3B4455;\n",
              "      fill: #D2E3FC;\n",
              "    }\n",
              "\n",
              "    [theme=dark] .colab-df-convert:hover {\n",
              "      background-color: #434B5C;\n",
              "      box-shadow: 0px 1px 3px 1px rgba(0, 0, 0, 0.15);\n",
              "      filter: drop-shadow(0px 1px 2px rgba(0, 0, 0, 0.3));\n",
              "      fill: #FFFFFF;\n",
              "    }\n",
              "  </style>\n",
              "\n",
              "      <script>\n",
              "        const buttonEl =\n",
              "          document.querySelector('#df-1b16e2d0-be9a-42f2-a42d-35f399492ef6 button.colab-df-convert');\n",
              "        buttonEl.style.display =\n",
              "          google.colab.kernel.accessAllowed ? 'block' : 'none';\n",
              "\n",
              "        async function convertToInteractive(key) {\n",
              "          const element = document.querySelector('#df-1b16e2d0-be9a-42f2-a42d-35f399492ef6');\n",
              "          const dataTable =\n",
              "            await google.colab.kernel.invokeFunction('convertToInteractive',\n",
              "                                                     [key], {});\n",
              "          if (!dataTable) return;\n",
              "\n",
              "          const docLinkHtml = 'Like what you see? Visit the ' +\n",
              "            '<a target=\"_blank\" href=https://colab.research.google.com/notebooks/data_table.ipynb>data table notebook</a>'\n",
              "            + ' to learn more about interactive tables.';\n",
              "          element.innerHTML = '';\n",
              "          dataTable['output_type'] = 'display_data';\n",
              "          await google.colab.output.renderOutput(dataTable, element);\n",
              "          const docLink = document.createElement('div');\n",
              "          docLink.innerHTML = docLinkHtml;\n",
              "          element.appendChild(docLink);\n",
              "        }\n",
              "      </script>\n",
              "    </div>\n",
              "  </div>\n",
              "  "
            ]
          },
          "metadata": {},
          "execution_count": 19
        }
      ]
    },
    {
      "cell_type": "code",
      "source": [
        "df_ml.info()"
      ],
      "metadata": {
        "colab": {
          "base_uri": "https://localhost:8080/"
        },
        "id": "th9RqJAU-zpM",
        "outputId": "d0324c20-32c4-4e67-8c96-889a1fd0e995"
      },
      "execution_count": 20,
      "outputs": [
        {
          "output_type": "stream",
          "name": "stdout",
          "text": [
            "<class 'pandas.core.frame.DataFrame'>\n",
            "Int64Index: 536 entries, 0 to 606\n",
            "Data columns (total 7 columns):\n",
            " #   Column              Non-Null Count  Dtype \n",
            "---  ------              --------------  ----- \n",
            " 0   work_year           536 non-null    int64 \n",
            " 1   experience_level    536 non-null    object\n",
            " 2   employment_type     536 non-null    object\n",
            " 3   salary_in_usd       536 non-null    int64 \n",
            " 4   employee_residence  536 non-null    object\n",
            " 5   remote_ratio        536 non-null    int64 \n",
            " 6   company_size        536 non-null    object\n",
            "dtypes: int64(3), object(4)\n",
            "memory usage: 49.7+ KB\n"
          ]
        }
      ]
    },
    {
      "cell_type": "code",
      "source": [
        "df_ml['company_size'].value_counts()"
      ],
      "metadata": {
        "colab": {
          "base_uri": "https://localhost:8080/"
        },
        "id": "ByZTaou2Z6B_",
        "outputId": "2cb7faab-b104-43be-d105-6e91835e25ca"
      },
      "execution_count": 21,
      "outputs": [
        {
          "output_type": "execute_result",
          "data": {
            "text/plain": [
              "M    267\n",
              "L    188\n",
              "S     81\n",
              "Name: company_size, dtype: int64"
            ]
          },
          "metadata": {},
          "execution_count": 21
        }
      ]
    },
    {
      "cell_type": "code",
      "source": [
        "# ordinal encoding exp_level, emp_type & comp_size\n",
        "exp_replace = {'SE':0, 'MI':1, 'EN':2, 'EX':3}\n",
        "emp_replace = {'FL':0, 'CT':1, 'PT':2, 'FT':3}\n",
        "comp_replace = {'S':0, 'M':1, 'L':2}\n",
        "\n",
        "df_ml['experience_level'].replace(exp_replace, inplace=True)\n",
        "df_ml['employment_type'].replace(emp_replace, inplace=True)\n",
        "df_ml['company_size'].replace(comp_replace, inplace=True)\n",
        "df_ml['company_size']"
      ],
      "metadata": {
        "colab": {
          "base_uri": "https://localhost:8080/"
        },
        "id": "aKOV0B4NZxf8",
        "outputId": "1305be59-9644-4174-dbf3-bda14efbb780"
      },
      "execution_count": 22,
      "outputs": [
        {
          "output_type": "execute_result",
          "data": {
            "text/plain": [
              "0      2\n",
              "1      0\n",
              "2      1\n",
              "3      0\n",
              "4      2\n",
              "      ..\n",
              "602    1\n",
              "603    1\n",
              "604    1\n",
              "605    1\n",
              "606    2\n",
              "Name: company_size, Length: 536, dtype: int64"
            ]
          },
          "metadata": {},
          "execution_count": 22
        }
      ]
    },
    {
      "cell_type": "code",
      "source": [
        "# defining features & target\n",
        "X = df_ml.drop('salary_in_usd', axis=1)\n",
        "y = df_ml['salary_in_usd']\n",
        "\n",
        "X_train, X_test, y_train, y_test = train_test_split(X, y, random_state=42)"
      ],
      "metadata": {
        "id": "aKvpTMVEAdUj"
      },
      "execution_count": 23,
      "outputs": []
    },
    {
      "cell_type": "code",
      "source": [
        "# instantiating selectors & transformers \n",
        "cat_selector = make_column_selector(dtype_include='object')\n",
        "num_selector = make_column_selector(dtype_include='number')\n",
        "\n",
        "freq_imputer = SimpleImputer(strategy='most_frequent')\n",
        "mean_imputer = SimpleImputer(strategy='mean')\n",
        "\n",
        "scaler = StandardScaler()\n",
        "ohe = OneHotEncoder(handle_unknown='ignore', sparse=False)"
      ],
      "metadata": {
        "id": "bducmwS74EgF"
      },
      "execution_count": 24,
      "outputs": []
    },
    {
      "cell_type": "code",
      "source": [
        "# instantiate pipelines & transformers\n",
        "num_pipe = make_pipeline(mean_imputer, scaler)\n",
        "cat_pipe = make_pipeline(freq_imputer, ohe)\n",
        "\n",
        "num_tuple = (num_pipe, num_selector)\n",
        "cat_tuple = (cat_pipe, cat_selector)\n",
        "\n",
        "preprocessor = make_column_transformer(num_tuple, cat_tuple)\n",
        "preprocessor.fit(X_train)"
      ],
      "metadata": {
        "colab": {
          "base_uri": "https://localhost:8080/",
          "height": 152
        },
        "id": "PNKXmRty5FXJ",
        "outputId": "08e1139b-c4e4-4e72-cf73-63b9b74d6f6c"
      },
      "execution_count": 25,
      "outputs": [
        {
          "output_type": "execute_result",
          "data": {
            "text/plain": [
              "ColumnTransformer(transformers=[('pipeline-1',\n",
              "                                 Pipeline(steps=[('simpleimputer',\n",
              "                                                  SimpleImputer()),\n",
              "                                                 ('standardscaler',\n",
              "                                                  StandardScaler())]),\n",
              "                                 <sklearn.compose._column_transformer.make_column_selector object at 0x7f2d6b15ee10>),\n",
              "                                ('pipeline-2',\n",
              "                                 Pipeline(steps=[('simpleimputer',\n",
              "                                                  SimpleImputer(strategy='most_frequent')),\n",
              "                                                 ('onehotencoder',\n",
              "                                                  OneHotEncoder(handle_unknown='ignore',\n",
              "                                                                sparse=False))]),\n",
              "                                 <sklearn.compose._column_transformer.make_column_selector object at 0x7f2d6b15ef90>)])"
            ],
            "text/html": [
              "<style>#sk-332f039e-714e-4b7e-840c-1b83e0db8247 {color: black;background-color: white;}#sk-332f039e-714e-4b7e-840c-1b83e0db8247 pre{padding: 0;}#sk-332f039e-714e-4b7e-840c-1b83e0db8247 div.sk-toggleable {background-color: white;}#sk-332f039e-714e-4b7e-840c-1b83e0db8247 label.sk-toggleable__label {cursor: pointer;display: block;width: 100%;margin-bottom: 0;padding: 0.3em;box-sizing: border-box;text-align: center;}#sk-332f039e-714e-4b7e-840c-1b83e0db8247 label.sk-toggleable__label-arrow:before {content: \"▸\";float: left;margin-right: 0.25em;color: #696969;}#sk-332f039e-714e-4b7e-840c-1b83e0db8247 label.sk-toggleable__label-arrow:hover:before {color: black;}#sk-332f039e-714e-4b7e-840c-1b83e0db8247 div.sk-estimator:hover label.sk-toggleable__label-arrow:before {color: black;}#sk-332f039e-714e-4b7e-840c-1b83e0db8247 div.sk-toggleable__content {max-height: 0;max-width: 0;overflow: hidden;text-align: left;background-color: #f0f8ff;}#sk-332f039e-714e-4b7e-840c-1b83e0db8247 div.sk-toggleable__content pre {margin: 0.2em;color: black;border-radius: 0.25em;background-color: #f0f8ff;}#sk-332f039e-714e-4b7e-840c-1b83e0db8247 input.sk-toggleable__control:checked~div.sk-toggleable__content {max-height: 200px;max-width: 100%;overflow: auto;}#sk-332f039e-714e-4b7e-840c-1b83e0db8247 input.sk-toggleable__control:checked~label.sk-toggleable__label-arrow:before {content: \"▾\";}#sk-332f039e-714e-4b7e-840c-1b83e0db8247 div.sk-estimator input.sk-toggleable__control:checked~label.sk-toggleable__label {background-color: #d4ebff;}#sk-332f039e-714e-4b7e-840c-1b83e0db8247 div.sk-label input.sk-toggleable__control:checked~label.sk-toggleable__label {background-color: #d4ebff;}#sk-332f039e-714e-4b7e-840c-1b83e0db8247 input.sk-hidden--visually {border: 0;clip: rect(1px 1px 1px 1px);clip: rect(1px, 1px, 1px, 1px);height: 1px;margin: -1px;overflow: hidden;padding: 0;position: absolute;width: 1px;}#sk-332f039e-714e-4b7e-840c-1b83e0db8247 div.sk-estimator {font-family: monospace;background-color: #f0f8ff;border: 1px dotted black;border-radius: 0.25em;box-sizing: border-box;margin-bottom: 0.5em;}#sk-332f039e-714e-4b7e-840c-1b83e0db8247 div.sk-estimator:hover {background-color: #d4ebff;}#sk-332f039e-714e-4b7e-840c-1b83e0db8247 div.sk-parallel-item::after {content: \"\";width: 100%;border-bottom: 1px solid gray;flex-grow: 1;}#sk-332f039e-714e-4b7e-840c-1b83e0db8247 div.sk-label:hover label.sk-toggleable__label {background-color: #d4ebff;}#sk-332f039e-714e-4b7e-840c-1b83e0db8247 div.sk-serial::before {content: \"\";position: absolute;border-left: 1px solid gray;box-sizing: border-box;top: 2em;bottom: 0;left: 50%;}#sk-332f039e-714e-4b7e-840c-1b83e0db8247 div.sk-serial {display: flex;flex-direction: column;align-items: center;background-color: white;padding-right: 0.2em;padding-left: 0.2em;}#sk-332f039e-714e-4b7e-840c-1b83e0db8247 div.sk-item {z-index: 1;}#sk-332f039e-714e-4b7e-840c-1b83e0db8247 div.sk-parallel {display: flex;align-items: stretch;justify-content: center;background-color: white;}#sk-332f039e-714e-4b7e-840c-1b83e0db8247 div.sk-parallel::before {content: \"\";position: absolute;border-left: 1px solid gray;box-sizing: border-box;top: 2em;bottom: 0;left: 50%;}#sk-332f039e-714e-4b7e-840c-1b83e0db8247 div.sk-parallel-item {display: flex;flex-direction: column;position: relative;background-color: white;}#sk-332f039e-714e-4b7e-840c-1b83e0db8247 div.sk-parallel-item:first-child::after {align-self: flex-end;width: 50%;}#sk-332f039e-714e-4b7e-840c-1b83e0db8247 div.sk-parallel-item:last-child::after {align-self: flex-start;width: 50%;}#sk-332f039e-714e-4b7e-840c-1b83e0db8247 div.sk-parallel-item:only-child::after {width: 0;}#sk-332f039e-714e-4b7e-840c-1b83e0db8247 div.sk-dashed-wrapped {border: 1px dashed gray;margin: 0 0.4em 0.5em 0.4em;box-sizing: border-box;padding-bottom: 0.4em;background-color: white;position: relative;}#sk-332f039e-714e-4b7e-840c-1b83e0db8247 div.sk-label label {font-family: monospace;font-weight: bold;background-color: white;display: inline-block;line-height: 1.2em;}#sk-332f039e-714e-4b7e-840c-1b83e0db8247 div.sk-label-container {position: relative;z-index: 2;text-align: center;}#sk-332f039e-714e-4b7e-840c-1b83e0db8247 div.sk-container {/* jupyter's `normalize.less` sets `[hidden] { display: none; }` but bootstrap.min.css set `[hidden] { display: none !important; }` so we also need the `!important` here to be able to override the default hidden behavior on the sphinx rendered scikit-learn.org. See: https://github.com/scikit-learn/scikit-learn/issues/21755 */display: inline-block !important;position: relative;}#sk-332f039e-714e-4b7e-840c-1b83e0db8247 div.sk-text-repr-fallback {display: none;}</style><div id=\"sk-332f039e-714e-4b7e-840c-1b83e0db8247\" class=\"sk-top-container\"><div class=\"sk-text-repr-fallback\"><pre>ColumnTransformer(transformers=[(&#x27;pipeline-1&#x27;,\n",
              "                                 Pipeline(steps=[(&#x27;simpleimputer&#x27;,\n",
              "                                                  SimpleImputer()),\n",
              "                                                 (&#x27;standardscaler&#x27;,\n",
              "                                                  StandardScaler())]),\n",
              "                                 &lt;sklearn.compose._column_transformer.make_column_selector object at 0x7f2d6b15ee10&gt;),\n",
              "                                (&#x27;pipeline-2&#x27;,\n",
              "                                 Pipeline(steps=[(&#x27;simpleimputer&#x27;,\n",
              "                                                  SimpleImputer(strategy=&#x27;most_frequent&#x27;)),\n",
              "                                                 (&#x27;onehotencoder&#x27;,\n",
              "                                                  OneHotEncoder(handle_unknown=&#x27;ignore&#x27;,\n",
              "                                                                sparse=False))]),\n",
              "                                 &lt;sklearn.compose._column_transformer.make_column_selector object at 0x7f2d6b15ef90&gt;)])</pre><b>Please rerun this cell to show the HTML repr or trust the notebook.</b></div><div class=\"sk-container\" hidden><div class=\"sk-item sk-dashed-wrapped\"><div class=\"sk-label-container\"><div class=\"sk-label sk-toggleable\"><input class=\"sk-toggleable__control sk-hidden--visually\" id=\"f713abeb-4ca6-4129-890d-6fe224c1ca35\" type=\"checkbox\" ><label for=\"f713abeb-4ca6-4129-890d-6fe224c1ca35\" class=\"sk-toggleable__label sk-toggleable__label-arrow\">ColumnTransformer</label><div class=\"sk-toggleable__content\"><pre>ColumnTransformer(transformers=[(&#x27;pipeline-1&#x27;,\n",
              "                                 Pipeline(steps=[(&#x27;simpleimputer&#x27;,\n",
              "                                                  SimpleImputer()),\n",
              "                                                 (&#x27;standardscaler&#x27;,\n",
              "                                                  StandardScaler())]),\n",
              "                                 &lt;sklearn.compose._column_transformer.make_column_selector object at 0x7f2d6b15ee10&gt;),\n",
              "                                (&#x27;pipeline-2&#x27;,\n",
              "                                 Pipeline(steps=[(&#x27;simpleimputer&#x27;,\n",
              "                                                  SimpleImputer(strategy=&#x27;most_frequent&#x27;)),\n",
              "                                                 (&#x27;onehotencoder&#x27;,\n",
              "                                                  OneHotEncoder(handle_unknown=&#x27;ignore&#x27;,\n",
              "                                                                sparse=False))]),\n",
              "                                 &lt;sklearn.compose._column_transformer.make_column_selector object at 0x7f2d6b15ef90&gt;)])</pre></div></div></div><div class=\"sk-parallel\"><div class=\"sk-parallel-item\"><div class=\"sk-item\"><div class=\"sk-label-container\"><div class=\"sk-label sk-toggleable\"><input class=\"sk-toggleable__control sk-hidden--visually\" id=\"4562cb53-dc72-484f-8ce3-128bde7a3ba7\" type=\"checkbox\" ><label for=\"4562cb53-dc72-484f-8ce3-128bde7a3ba7\" class=\"sk-toggleable__label sk-toggleable__label-arrow\">pipeline-1</label><div class=\"sk-toggleable__content\"><pre>&lt;sklearn.compose._column_transformer.make_column_selector object at 0x7f2d6b15ee10&gt;</pre></div></div></div><div class=\"sk-serial\"><div class=\"sk-item\"><div class=\"sk-serial\"><div class=\"sk-item\"><div class=\"sk-estimator sk-toggleable\"><input class=\"sk-toggleable__control sk-hidden--visually\" id=\"f6c35e57-1c8c-4d7a-9971-02d2c878d6fe\" type=\"checkbox\" ><label for=\"f6c35e57-1c8c-4d7a-9971-02d2c878d6fe\" class=\"sk-toggleable__label sk-toggleable__label-arrow\">SimpleImputer</label><div class=\"sk-toggleable__content\"><pre>SimpleImputer()</pre></div></div></div><div class=\"sk-item\"><div class=\"sk-estimator sk-toggleable\"><input class=\"sk-toggleable__control sk-hidden--visually\" id=\"18f41c9f-a364-4096-8b5c-c7512d597b16\" type=\"checkbox\" ><label for=\"18f41c9f-a364-4096-8b5c-c7512d597b16\" class=\"sk-toggleable__label sk-toggleable__label-arrow\">StandardScaler</label><div class=\"sk-toggleable__content\"><pre>StandardScaler()</pre></div></div></div></div></div></div></div></div><div class=\"sk-parallel-item\"><div class=\"sk-item\"><div class=\"sk-label-container\"><div class=\"sk-label sk-toggleable\"><input class=\"sk-toggleable__control sk-hidden--visually\" id=\"6e2df7b8-2513-4d0a-825e-cbbdca09d73d\" type=\"checkbox\" ><label for=\"6e2df7b8-2513-4d0a-825e-cbbdca09d73d\" class=\"sk-toggleable__label sk-toggleable__label-arrow\">pipeline-2</label><div class=\"sk-toggleable__content\"><pre>&lt;sklearn.compose._column_transformer.make_column_selector object at 0x7f2d6b15ef90&gt;</pre></div></div></div><div class=\"sk-serial\"><div class=\"sk-item\"><div class=\"sk-serial\"><div class=\"sk-item\"><div class=\"sk-estimator sk-toggleable\"><input class=\"sk-toggleable__control sk-hidden--visually\" id=\"b35cd643-7df6-4c7c-a1e0-3ad6622a9ced\" type=\"checkbox\" ><label for=\"b35cd643-7df6-4c7c-a1e0-3ad6622a9ced\" class=\"sk-toggleable__label sk-toggleable__label-arrow\">SimpleImputer</label><div class=\"sk-toggleable__content\"><pre>SimpleImputer(strategy=&#x27;most_frequent&#x27;)</pre></div></div></div><div class=\"sk-item\"><div class=\"sk-estimator sk-toggleable\"><input class=\"sk-toggleable__control sk-hidden--visually\" id=\"5684f896-9e58-4e0d-a3f3-bb619dbccb3e\" type=\"checkbox\" ><label for=\"5684f896-9e58-4e0d-a3f3-bb619dbccb3e\" class=\"sk-toggleable__label sk-toggleable__label-arrow\">OneHotEncoder</label><div class=\"sk-toggleable__content\"><pre>OneHotEncoder(handle_unknown=&#x27;ignore&#x27;, sparse=False)</pre></div></div></div></div></div></div></div></div></div></div></div></div>"
            ]
          },
          "metadata": {},
          "execution_count": 25
        }
      ]
    },
    {
      "cell_type": "code",
      "source": [
        "# transform training and testing data\n",
        "X_train_processed = preprocessor.transform(X_train)\n",
        "X_test_processed = preprocessor.transform(X_test)\n",
        "X_train_processed"
      ],
      "metadata": {
        "colab": {
          "base_uri": "https://localhost:8080/"
        },
        "id": "xphPvP7L5xpz",
        "outputId": "2ffc5692-a831-4cfb-beaa-f7b443d64d1e"
      },
      "execution_count": 26,
      "outputs": [
        {
          "output_type": "execute_result",
          "data": {
            "text/plain": [
              "array([[ 0.95589212,  0.12415255,  0.16394189, ...,  0.        ,\n",
              "         0.        ,  0.        ],\n",
              "       [ 0.95589212, -1.03652946,  0.16394189, ...,  0.        ,\n",
              "         1.        ,  0.        ],\n",
              "       [ 0.95589212,  1.28483457,  0.16394189, ...,  0.        ,\n",
              "         0.        ,  0.        ],\n",
              "       ...,\n",
              "       [-0.47261581, -1.03652946,  0.16394189, ...,  0.        ,\n",
              "         0.        ,  0.        ],\n",
              "       [ 0.95589212,  0.12415255,  0.16394189, ...,  0.        ,\n",
              "         1.        ,  0.        ],\n",
              "       [-0.47261581,  0.12415255,  0.16394189, ...,  0.        ,\n",
              "         0.        ,  0.        ]])"
            ]
          },
          "metadata": {},
          "execution_count": 26
        }
      ]
    },
    {
      "cell_type": "markdown",
      "source": [
        "**Random Forest Model**"
      ],
      "metadata": {
        "id": "Ujj_RbsqhSuF"
      }
    },
    {
      "cell_type": "code",
      "source": [
        "# instantiate RF\n",
        "rf = RandomForestRegressor(random_state=42)\n",
        "rf.fit(X_train_processed, y_train)"
      ],
      "metadata": {
        "colab": {
          "base_uri": "https://localhost:8080/",
          "height": 75
        },
        "id": "LaUzytc9efAg",
        "outputId": "66e9671c-0a1a-4dd8-c7b6-79a176fb8749"
      },
      "execution_count": 57,
      "outputs": [
        {
          "output_type": "execute_result",
          "data": {
            "text/plain": [
              "RandomForestRegressor(random_state=42)"
            ],
            "text/html": [
              "<style>#sk-0f37bdc5-e5d6-4167-a443-1cc9acfd58e7 {color: black;background-color: white;}#sk-0f37bdc5-e5d6-4167-a443-1cc9acfd58e7 pre{padding: 0;}#sk-0f37bdc5-e5d6-4167-a443-1cc9acfd58e7 div.sk-toggleable {background-color: white;}#sk-0f37bdc5-e5d6-4167-a443-1cc9acfd58e7 label.sk-toggleable__label {cursor: pointer;display: block;width: 100%;margin-bottom: 0;padding: 0.3em;box-sizing: border-box;text-align: center;}#sk-0f37bdc5-e5d6-4167-a443-1cc9acfd58e7 label.sk-toggleable__label-arrow:before {content: \"▸\";float: left;margin-right: 0.25em;color: #696969;}#sk-0f37bdc5-e5d6-4167-a443-1cc9acfd58e7 label.sk-toggleable__label-arrow:hover:before {color: black;}#sk-0f37bdc5-e5d6-4167-a443-1cc9acfd58e7 div.sk-estimator:hover label.sk-toggleable__label-arrow:before {color: black;}#sk-0f37bdc5-e5d6-4167-a443-1cc9acfd58e7 div.sk-toggleable__content {max-height: 0;max-width: 0;overflow: hidden;text-align: left;background-color: #f0f8ff;}#sk-0f37bdc5-e5d6-4167-a443-1cc9acfd58e7 div.sk-toggleable__content pre {margin: 0.2em;color: black;border-radius: 0.25em;background-color: #f0f8ff;}#sk-0f37bdc5-e5d6-4167-a443-1cc9acfd58e7 input.sk-toggleable__control:checked~div.sk-toggleable__content {max-height: 200px;max-width: 100%;overflow: auto;}#sk-0f37bdc5-e5d6-4167-a443-1cc9acfd58e7 input.sk-toggleable__control:checked~label.sk-toggleable__label-arrow:before {content: \"▾\";}#sk-0f37bdc5-e5d6-4167-a443-1cc9acfd58e7 div.sk-estimator input.sk-toggleable__control:checked~label.sk-toggleable__label {background-color: #d4ebff;}#sk-0f37bdc5-e5d6-4167-a443-1cc9acfd58e7 div.sk-label input.sk-toggleable__control:checked~label.sk-toggleable__label {background-color: #d4ebff;}#sk-0f37bdc5-e5d6-4167-a443-1cc9acfd58e7 input.sk-hidden--visually {border: 0;clip: rect(1px 1px 1px 1px);clip: rect(1px, 1px, 1px, 1px);height: 1px;margin: -1px;overflow: hidden;padding: 0;position: absolute;width: 1px;}#sk-0f37bdc5-e5d6-4167-a443-1cc9acfd58e7 div.sk-estimator {font-family: monospace;background-color: #f0f8ff;border: 1px dotted black;border-radius: 0.25em;box-sizing: border-box;margin-bottom: 0.5em;}#sk-0f37bdc5-e5d6-4167-a443-1cc9acfd58e7 div.sk-estimator:hover {background-color: #d4ebff;}#sk-0f37bdc5-e5d6-4167-a443-1cc9acfd58e7 div.sk-parallel-item::after {content: \"\";width: 100%;border-bottom: 1px solid gray;flex-grow: 1;}#sk-0f37bdc5-e5d6-4167-a443-1cc9acfd58e7 div.sk-label:hover label.sk-toggleable__label {background-color: #d4ebff;}#sk-0f37bdc5-e5d6-4167-a443-1cc9acfd58e7 div.sk-serial::before {content: \"\";position: absolute;border-left: 1px solid gray;box-sizing: border-box;top: 2em;bottom: 0;left: 50%;}#sk-0f37bdc5-e5d6-4167-a443-1cc9acfd58e7 div.sk-serial {display: flex;flex-direction: column;align-items: center;background-color: white;padding-right: 0.2em;padding-left: 0.2em;}#sk-0f37bdc5-e5d6-4167-a443-1cc9acfd58e7 div.sk-item {z-index: 1;}#sk-0f37bdc5-e5d6-4167-a443-1cc9acfd58e7 div.sk-parallel {display: flex;align-items: stretch;justify-content: center;background-color: white;}#sk-0f37bdc5-e5d6-4167-a443-1cc9acfd58e7 div.sk-parallel::before {content: \"\";position: absolute;border-left: 1px solid gray;box-sizing: border-box;top: 2em;bottom: 0;left: 50%;}#sk-0f37bdc5-e5d6-4167-a443-1cc9acfd58e7 div.sk-parallel-item {display: flex;flex-direction: column;position: relative;background-color: white;}#sk-0f37bdc5-e5d6-4167-a443-1cc9acfd58e7 div.sk-parallel-item:first-child::after {align-self: flex-end;width: 50%;}#sk-0f37bdc5-e5d6-4167-a443-1cc9acfd58e7 div.sk-parallel-item:last-child::after {align-self: flex-start;width: 50%;}#sk-0f37bdc5-e5d6-4167-a443-1cc9acfd58e7 div.sk-parallel-item:only-child::after {width: 0;}#sk-0f37bdc5-e5d6-4167-a443-1cc9acfd58e7 div.sk-dashed-wrapped {border: 1px dashed gray;margin: 0 0.4em 0.5em 0.4em;box-sizing: border-box;padding-bottom: 0.4em;background-color: white;position: relative;}#sk-0f37bdc5-e5d6-4167-a443-1cc9acfd58e7 div.sk-label label {font-family: monospace;font-weight: bold;background-color: white;display: inline-block;line-height: 1.2em;}#sk-0f37bdc5-e5d6-4167-a443-1cc9acfd58e7 div.sk-label-container {position: relative;z-index: 2;text-align: center;}#sk-0f37bdc5-e5d6-4167-a443-1cc9acfd58e7 div.sk-container {/* jupyter's `normalize.less` sets `[hidden] { display: none; }` but bootstrap.min.css set `[hidden] { display: none !important; }` so we also need the `!important` here to be able to override the default hidden behavior on the sphinx rendered scikit-learn.org. See: https://github.com/scikit-learn/scikit-learn/issues/21755 */display: inline-block !important;position: relative;}#sk-0f37bdc5-e5d6-4167-a443-1cc9acfd58e7 div.sk-text-repr-fallback {display: none;}</style><div id=\"sk-0f37bdc5-e5d6-4167-a443-1cc9acfd58e7\" class=\"sk-top-container\"><div class=\"sk-text-repr-fallback\"><pre>RandomForestRegressor(random_state=42)</pre><b>Please rerun this cell to show the HTML repr or trust the notebook.</b></div><div class=\"sk-container\" hidden><div class=\"sk-item\"><div class=\"sk-estimator sk-toggleable\"><input class=\"sk-toggleable__control sk-hidden--visually\" id=\"5f72abc6-bd51-497c-9162-51c2e83a66cd\" type=\"checkbox\" checked><label for=\"5f72abc6-bd51-497c-9162-51c2e83a66cd\" class=\"sk-toggleable__label sk-toggleable__label-arrow\">RandomForestRegressor</label><div class=\"sk-toggleable__content\"><pre>RandomForestRegressor(random_state=42)</pre></div></div></div></div></div>"
            ]
          },
          "metadata": {},
          "execution_count": 57
        }
      ]
    },
    {
      "cell_type": "code",
      "source": [
        "rf.get_params()"
      ],
      "metadata": {
        "colab": {
          "base_uri": "https://localhost:8080/"
        },
        "id": "CvkDcrrqmU-s",
        "outputId": "77ad2de3-305b-438d-97f2-72fda0f3193b"
      },
      "execution_count": 58,
      "outputs": [
        {
          "output_type": "execute_result",
          "data": {
            "text/plain": [
              "{'bootstrap': True,\n",
              " 'ccp_alpha': 0.0,\n",
              " 'criterion': 'squared_error',\n",
              " 'max_depth': None,\n",
              " 'max_features': 'auto',\n",
              " 'max_leaf_nodes': None,\n",
              " 'max_samples': None,\n",
              " 'min_impurity_decrease': 0.0,\n",
              " 'min_samples_leaf': 1,\n",
              " 'min_samples_split': 2,\n",
              " 'min_weight_fraction_leaf': 0.0,\n",
              " 'n_estimators': 100,\n",
              " 'n_jobs': None,\n",
              " 'oob_score': False,\n",
              " 'random_state': 42,\n",
              " 'verbose': 0,\n",
              " 'warm_start': False}"
            ]
          },
          "metadata": {},
          "execution_count": 58
        }
      ]
    },
    {
      "cell_type": "code",
      "source": [
        "# predict model\n",
        "prediction = rf.predict(X_test_processed)\n",
        "prediction"
      ],
      "metadata": {
        "colab": {
          "base_uri": "https://localhost:8080/"
        },
        "id": "zjeEAGTmfAiG",
        "outputId": "dcb56289-0214-4f14-878a-f6130a11a65a"
      },
      "execution_count": 59,
      "outputs": [
        {
          "output_type": "execute_result",
          "data": {
            "text/plain": [
              "array([ 56768.046912  ,  77424.5       , 102671.64241667,  74571.29036508,\n",
              "       156748.68      , 135606.04165701, 143505.61309524, 133876.27406926,\n",
              "        46770.4595    , 138485.21      ,  84801.08916667, 146397.20401956,\n",
              "       208325.83306971, 245016.00757576, 103285.85033333,  60582.70283333,\n",
              "       146397.20401956, 117577.9       ,  28281.81166667,  74762.03533333,\n",
              "        40526.09      ,  74285.49580556,  70109.6       ,  41313.34030952,\n",
              "        95005.03961508, 105328.54459524, 135606.04165701, 116352.09      ,\n",
              "       112614.10264735,  50636.386     , 146397.20401956, 118779.35318326,\n",
              "        56205.15608516, 146397.20401956,  83150.95238095, 172530.44190811,\n",
              "       162389.92137446,  47111.08333333,  24993.18333333,  49545.66916667,\n",
              "        67091.49      , 137519.67380952,  80255.14      ,  74896.01370851,\n",
              "        67643.57291667, 146397.20401956,  67438.79333333,  63455.47763889,\n",
              "        61497.32595238, 116823.23333333,  54551.33233333,  21054.42      ,\n",
              "       146397.20401956,  70108.43333333, 160646.8015879 ,  47559.21166667,\n",
              "       172530.44190811,  60994.13116667, 146397.20401956, 146397.20401956,\n",
              "        31262.63545455, 172530.44190811, 172530.44190811,  57665.23      ,\n",
              "       146397.20401956, 146397.20401956, 137519.67380952,  54954.29484127,\n",
              "       123685.92388167, 146397.20401956,  87226.78571429, 118779.35318326,\n",
              "        83050.69047619,  66031.55111111, 171757.54923508, 135606.04165701,\n",
              "        44549.03333333, 146397.20401956,  23311.11      , 104274.45666667,\n",
              "        76019.24845238, 152434.32984267,  68505.243     ,  13855.04      ,\n",
              "        68859.40041667,  73640.51291667, 217199.33860211, 146397.20401956,\n",
              "        51568.46      ,  67872.35708333,  80682.49083333, 200478.7268254 ,\n",
              "        14343.385     , 124336.34920635, 162967.64260462,  58435.98083333,\n",
              "       146397.20401956,  83050.69047619, 118779.35318326,  49350.335     ,\n",
              "        88454.73239286, 137519.67380952, 152434.32984267, 146397.20401956,\n",
              "       217199.33860211,  27226.60333333, 133876.27406926,  54734.37928571,\n",
              "       208325.83306971, 146397.20401956,  62465.18455556, 170189.69071429,\n",
              "       102671.64241667, 146397.20401956,  64301.24161905, 146397.20401956,\n",
              "       153926.7969259 , 146397.20401956,  55424.709     ,  83253.07747313,\n",
              "       146397.20401956,  74746.10333333, 152434.32984267, 172530.44190811,\n",
              "        52551.71183333, 137519.67380952, 153926.7969259 , 217199.33860211,\n",
              "        74285.49580556, 146397.20401956,  73641.16630952, 141960.48      ,\n",
              "       146397.20401956, 118779.35318326])"
            ]
          },
          "metadata": {},
          "execution_count": 59
        }
      ]
    },
    {
      "cell_type": "code",
      "source": [
        "# evaluate model\n",
        "# high train score, low test score\n",
        "rf_train_score = rf.score(X_train_processed, y_train)\n",
        "rf_test_score = rf.score(X_test_processed, y_test)\n",
        "print(f'Training Score: {rf_train_score}')\n",
        "print(f'Testing Score: {rf_test_score}')\n",
        "print('MAE: ', mean_absolute_error(y_test, prediction))\n",
        "print('MSE: ', mean_squared_error(y_test, prediction))\n",
        "print('RMSE: ', np.sqrt(mean_squared_error(y_test, prediction)))"
      ],
      "metadata": {
        "colab": {
          "base_uri": "https://localhost:8080/"
        },
        "id": "az6_jTdSfGzE",
        "outputId": "83c03583-fd96-4a8e-89f9-572d1c6c4625"
      },
      "execution_count": 73,
      "outputs": [
        {
          "output_type": "stream",
          "name": "stdout",
          "text": [
            "Training Score: 0.6826704429677215\n",
            "Testing Score: 0.41196865738654387\n",
            "MAE:  39406.77155371119\n",
            "MSE:  4361255817.558198\n",
            "RMSE:  66039.80479648769\n"
          ]
        }
      ]
    },
    {
      "cell_type": "code",
      "source": [
        "# set max_depth to 6 for another evaluation\n",
        "rf_6 = RandomForestRegressor(max_depth=6, random_state=42)\n",
        "rf_6.fit(X_train_processed, y_train)\n",
        "y_pred = rf_6.predict(X_test_processed)\n",
        "rf_6_train_score = rf_6.score(X_train_processed, y_train)\n",
        "rf_6_test_score = rf_6.score(X_test_processed, y_test)\n",
        "print(f'Training Score: {rf_6_train_score}')\n",
        "print(f'Testing Score: {rf_6_test_score}')\n",
        "print('MAE: ', mean_absolute_error(y_test, y_pred))\n",
        "print('MSE: ', mean_squared_error(y_test, y_pred))\n",
        "print('RMSE: ', np.sqrt(mean_squared_error(y_test, y_pred)))"
      ],
      "metadata": {
        "colab": {
          "base_uri": "https://localhost:8080/"
        },
        "id": "DrDOA64WgF3b",
        "outputId": "458d8810-a054-4183-b30e-8cc39e02eb6a"
      },
      "execution_count": 74,
      "outputs": [
        {
          "output_type": "stream",
          "name": "stdout",
          "text": [
            "Training Score: 0.6169561597823114\n",
            "Testing Score: 0.4135129731588937\n",
            "MAE:  39529.732878063165\n",
            "MSE:  4349802080.897881\n",
            "RMSE:  65953.0293534564\n"
          ]
        }
      ]
    },
    {
      "cell_type": "markdown",
      "source": [
        "**Tuning using GridSearchCV**"
      ],
      "metadata": {
        "id": "zBczp9bbnAKd"
      }
    },
    {
      "cell_type": "code",
      "source": [
        "# instantiating model and setting grid parameters\n",
        "model = make_pipeline(StandardScaler(),RandomForestRegressor())\n",
        "model.get_params()"
      ],
      "metadata": {
        "id": "9Z3gMYaIm6qh",
        "colab": {
          "base_uri": "https://localhost:8080/"
        },
        "outputId": "76088c1f-780a-4b0c-e5d2-e21f934c328e"
      },
      "execution_count": 32,
      "outputs": [
        {
          "output_type": "execute_result",
          "data": {
            "text/plain": [
              "{'memory': None,\n",
              " 'steps': [('standardscaler', StandardScaler()),\n",
              "  ('randomforestregressor', RandomForestRegressor())],\n",
              " 'verbose': False,\n",
              " 'standardscaler': StandardScaler(),\n",
              " 'randomforestregressor': RandomForestRegressor(),\n",
              " 'standardscaler__copy': True,\n",
              " 'standardscaler__with_mean': True,\n",
              " 'standardscaler__with_std': True,\n",
              " 'randomforestregressor__bootstrap': True,\n",
              " 'randomforestregressor__ccp_alpha': 0.0,\n",
              " 'randomforestregressor__criterion': 'squared_error',\n",
              " 'randomforestregressor__max_depth': None,\n",
              " 'randomforestregressor__max_features': 'auto',\n",
              " 'randomforestregressor__max_leaf_nodes': None,\n",
              " 'randomforestregressor__max_samples': None,\n",
              " 'randomforestregressor__min_impurity_decrease': 0.0,\n",
              " 'randomforestregressor__min_samples_leaf': 1,\n",
              " 'randomforestregressor__min_samples_split': 2,\n",
              " 'randomforestregressor__min_weight_fraction_leaf': 0.0,\n",
              " 'randomforestregressor__n_estimators': 100,\n",
              " 'randomforestregressor__n_jobs': None,\n",
              " 'randomforestregressor__oob_score': False,\n",
              " 'randomforestregressor__random_state': None,\n",
              " 'randomforestregressor__verbose': 0,\n",
              " 'randomforestregressor__warm_start': False}"
            ]
          },
          "metadata": {},
          "execution_count": 32
        }
      ]
    },
    {
      "cell_type": "code",
      "source": [
        "param_grid = {'randomforestregressor__max_depth': [5, 10, 15],\n",
        "              'randomforestregressor__min_samples_leaf': [1, 10, 20],\n",
        "              'randomforestregressor__min_samples_split': [10, 50, 100],\n",
        "              'randomforestregressor__n_estimators': [250, 300, 350]}"
      ],
      "metadata": {
        "id": "04WJtHDz0pQO"
      },
      "execution_count": 86,
      "outputs": []
    },
    {
      "cell_type": "code",
      "source": [
        "# fit grid search onto training data\n",
        "rf_grid_search = GridSearchCV(model, param_grid)\n",
        "rf_grid_search.fit(X_train_processed, y_train)\n",
        "rf_grid_search.best_params_"
      ],
      "metadata": {
        "colab": {
          "base_uri": "https://localhost:8080/"
        },
        "id": "vFj7Or5tnlhQ",
        "outputId": "68d17481-a76d-47fc-d3ef-eb26f8260d2d"
      },
      "execution_count": 87,
      "outputs": [
        {
          "output_type": "execute_result",
          "data": {
            "text/plain": [
              "{'randomforestregressor__max_depth': 10,\n",
              " 'randomforestregressor__min_samples_leaf': 1,\n",
              " 'randomforestregressor__min_samples_split': 50,\n",
              " 'randomforestregressor__n_estimators': 300}"
            ]
          },
          "metadata": {},
          "execution_count": 87
        }
      ]
    },
    {
      "cell_type": "code",
      "source": [
        "# evaluate best model by grabbing best R2 score\n",
        "best_rf_model = rf_grid_search.best_estimator_\n",
        "best_rf_model.fit(X_train_processed, y_train)\n",
        "y_pred2 = best_rf_model.predict(X_test_processed)\n",
        "best_rf_train_score = best_rf_model.score(X_train_processed, y_train)\n",
        "best_rf_test_score = best_rf_model.score(X_test_processed, y_test)\n",
        "print(f'Training Score: {best_rf_train_score}')\n",
        "print(f'Testing Score: {best_rf_test_score}')\n",
        "print('MAE: ', mean_absolute_error(y_test, y_pred2))\n",
        "print('MSE: ', mean_squared_error(y_test, y_pred2))\n",
        "print('RMSE: ', np.sqrt(mean_squared_error(y_test, y_pred2)))"
      ],
      "metadata": {
        "colab": {
          "base_uri": "https://localhost:8080/"
        },
        "id": "C2Y4elDMpBBq",
        "outputId": "356dfe5c-6f49-4ae1-ab8b-5158d3397c11"
      },
      "execution_count": 89,
      "outputs": [
        {
          "output_type": "stream",
          "name": "stdout",
          "text": [
            "Training Score: 0.5494756485092451\n",
            "Testing Score: 0.3877668509837334\n",
            "MAE:  40470.8205725769\n",
            "MSE:  4540753509.808011\n",
            "RMSE:  67385.11341392853\n"
          ]
        }
      ]
    },
    {
      "cell_type": "markdown",
      "source": [
        "**K-Nearest Neighbors Model with & without PCA**"
      ],
      "metadata": {
        "id": "4xgxmIvwiIQV"
      }
    },
    {
      "cell_type": "code",
      "source": [
        "# creating evaluation model function for MAE, RMSE & R2 Score\n",
        "def eval_model(y_true, y_pred):\n",
        "  \n",
        "  mae = mean_absolute_error(y_true, y_pred)\n",
        "  mse = mean_squared_error(y_true, y_pred)\n",
        "  rmse = np.sqrt(mse)\n",
        "  r2 = r2_score(y_true, y_pred)\n",
        "\n",
        "  print(f'scores: \\nMAE: {mae:,.2f} \\nMSE: {mse:,.2f} \\nRMSE: {rmse:,.2f} \\nR2: {r2:.2f}')"
      ],
      "metadata": {
        "id": "fPMqRUe1dwlu"
      },
      "execution_count": 56,
      "outputs": []
    },
    {
      "cell_type": "code",
      "source": [
        "# instantiate scaler & pca > pipeline\n",
        "# will use 90% variance\n",
        "# transform data to check features after PCA app.\n",
        "pca = PCA(n_components=.90)\n",
        "preprocessor_pca = make_pipeline(scaler, pca)\n",
        "\n",
        "print('Shape prior PCA:', X_train_processed.shape)\n",
        "print('Shape after PCA:', preprocessor_pca.fit_transform(X_train_processed).shape)\n",
        "print('Columns Reduced by:', X_train_processed.shape[1] - preprocessor_pca.fit_transform(X_train_processed).shape[1])"
      ],
      "metadata": {
        "colab": {
          "base_uri": "https://localhost:8080/"
        },
        "id": "z4YDBpvefE-q",
        "outputId": "86bca5ee-a22f-41a9-d418-0a51011a9032"
      },
      "execution_count": 37,
      "outputs": [
        {
          "output_type": "stream",
          "name": "stdout",
          "text": [
            "Shape prior PCA: (402, 57)\n",
            "Shape after PCA: (402, 49)\n",
            "Columns Reduced by: 8\n"
          ]
        }
      ]
    },
    {
      "cell_type": "code",
      "source": [
        "# instantiate KNN\n",
        "knn = KNeighborsRegressor()"
      ],
      "metadata": {
        "id": "Va2UW7zUhOsd"
      },
      "execution_count": 38,
      "outputs": []
    },
    {
      "cell_type": "markdown",
      "source": [
        "**With PCA**"
      ],
      "metadata": {
        "id": "dzoRfHP6x9WL"
      }
    },
    {
      "cell_type": "markdown",
      "source": [
        "* We'll plot first 50 components in order to clearly see diminishing returns\n",
        "* Diminishing returns tend to occur around 7 components"
      ],
      "metadata": {
        "id": "M_6g5PzNLeHI"
      }
    },
    {
      "cell_type": "code",
      "source": [
        "# Plot the explained variance ratios of the first 50 principal components\n",
        "plt.figure(figsize=(18,8))\n",
        "plt.plot(range(1, 50), pca.explained_variance_ratio_)\n",
        "plt.xticks(ticks = range(1, 50), fontsize=8)\n",
        "plt.xlabel('Principal Component')\n",
        "plt.ylabel('Proportion of Explained Variance');"
      ],
      "metadata": {
        "colab": {
          "base_uri": "https://localhost:8080/",
          "height": 501
        },
        "id": "sKn10w1nzRVG",
        "outputId": "89951b31-aab9-4817-b6ab-2b99b0515156"
      },
      "execution_count": 39,
      "outputs": [
        {
          "output_type": "display_data",
          "data": {
            "text/plain": [
              "<Figure size 1296x576 with 1 Axes>"
            ],
            "image/png": "[encoded data removed]"
          },
          "metadata": {}
        }
      ]
    },
    {
      "cell_type": "code",
      "source": [
        "%%time\n",
        "# using PCA \n",
        "pca90 = PCA(n_components=.9)\n",
        "knn_pca = make_pipeline(preprocessor, pca90, knn)\n",
        "knn_pca.fit(X_train, y_train)\n",
        "\n",
        "print('Training Data')\n",
        "eval_model(y_train, knn_pca.predict(X_train))\n",
        "print('\\nTesting Data')\n",
        "eval_model(y_test, knn_pca.predict(X_test))"
      ],
      "metadata": {
        "colab": {
          "base_uri": "https://localhost:8080/"
        },
        "id": "fJxdNbe5hH_S",
        "outputId": "e43d04a4-4836-47e4-d1e5-b29f7d4bab08"
      },
      "execution_count": 40,
      "outputs": [
        {
          "output_type": "stream",
          "name": "stdout",
          "text": [
            "Training Data\n",
            "scores: \n",
            "MAE: 33,721.23 \n",
            "MSE: 2,498,921,178.04 \n",
            "RMSE: 49,989.21 \n",
            "R2: 0.46\n",
            "\n",
            "Testing Data\n",
            "scores: \n",
            "MAE: 50,397.49 \n",
            "MSE: 6,253,308,375.77 \n",
            "RMSE: 79,077.86 \n",
            "R2: 0.16\n",
            "CPU times: user 58.1 ms, sys: 32.1 ms, total: 90.2 ms\n",
            "Wall time: 58.2 ms\n"
          ]
        }
      ]
    },
    {
      "cell_type": "markdown",
      "source": [
        "**Without PCA**"
      ],
      "metadata": {
        "id": "10HNUypgx_RN"
      }
    },
    {
      "cell_type": "code",
      "source": [
        "%%time\n",
        "# no PCA\n",
        "no_pca = make_pipeline(scaler, knn)\n",
        "no_pca.fit(X_train_processed, y_train)\n",
        "\n",
        "print('Training Data')\n",
        "eval_model(y_train, no_pca.predict(X_train_processed))\n",
        "print('\\nTesting Data')\n",
        "eval_model(y_test, no_pca.predict(X_test_processed))"
      ],
      "metadata": {
        "colab": {
          "base_uri": "https://localhost:8080/"
        },
        "id": "RCCDkFDRx8dK",
        "outputId": "4671a055-69f1-4cbf-f518-23ca9f4e2994"
      },
      "execution_count": 41,
      "outputs": [
        {
          "output_type": "stream",
          "name": "stdout",
          "text": [
            "Training Data\n",
            "scores: \n",
            "MAE: 37,413.21 \n",
            "MSE: 2,838,094,762.92 \n",
            "RMSE: 53,273.77 \n",
            "R2: 0.39\n",
            "\n",
            "Testing Data\n",
            "scores: \n",
            "MAE: 49,808.41 \n",
            "MSE: 6,008,096,662.89 \n",
            "RMSE: 77,511.91 \n",
            "R2: 0.19\n",
            "CPU times: user 21.8 ms, sys: 11 ms, total: 32.9 ms\n",
            "Wall time: 23.4 ms\n"
          ]
        }
      ]
    },
    {
      "cell_type": "markdown",
      "source": [
        "**Tuning using GridSearchCV**"
      ],
      "metadata": {
        "id": "WU0rj_cfFeYR"
      }
    },
    {
      "cell_type": "code",
      "source": [
        "# instantiate model pipeline\n",
        "knn_pipeline = make_pipeline(StandardScaler(), KNeighborsRegressor())\n",
        "knn_pipeline.get_params()"
      ],
      "metadata": {
        "colab": {
          "base_uri": "https://localhost:8080/"
        },
        "id": "CQr1YlT3FhJb",
        "outputId": "3758103d-d466-4f9e-b53c-3094159f4883"
      },
      "execution_count": 42,
      "outputs": [
        {
          "output_type": "execute_result",
          "data": {
            "text/plain": [
              "{'memory': None,\n",
              " 'steps': [('standardscaler', StandardScaler()),\n",
              "  ('kneighborsregressor', KNeighborsRegressor())],\n",
              " 'verbose': False,\n",
              " 'standardscaler': StandardScaler(),\n",
              " 'kneighborsregressor': KNeighborsRegressor(),\n",
              " 'standardscaler__copy': True,\n",
              " 'standardscaler__with_mean': True,\n",
              " 'standardscaler__with_std': True,\n",
              " 'kneighborsregressor__algorithm': 'auto',\n",
              " 'kneighborsregressor__leaf_size': 30,\n",
              " 'kneighborsregressor__metric': 'minkowski',\n",
              " 'kneighborsregressor__metric_params': None,\n",
              " 'kneighborsregressor__n_jobs': None,\n",
              " 'kneighborsregressor__n_neighbors': 5,\n",
              " 'kneighborsregressor__p': 2,\n",
              " 'kneighborsregressor__weights': 'uniform'}"
            ]
          },
          "metadata": {},
          "execution_count": 42
        }
      ]
    },
    {
      "cell_type": "code",
      "source": [
        "# set grid parameters, instantiate pipelines & evaluate best model\n",
        "knn_grid = {'kneighborsregressor__n_neighbors': range(1,10),\n",
        "            'kneighborsregressor__p': range(1,5),\n",
        "            'kneighborsregressor__weights': ['distance','uniform']}\n",
        "\n",
        "knn_pipeline_gs = GridSearchCV(knn_pipeline, knn_grid)\n",
        "knn_pipeline_gs.fit(X_train_processed, y_train)\n",
        "print(knn_pipeline_gs.best_params_)\n",
        "\n",
        "best_knn_model = knn_pipeline_gs.best_estimator_\n",
        "best_knn_model.fit(X_train_processed, y_train)\n",
        "y_pred3 = best_knn_model.predict(X_test_processed)\n",
        "best_knn_train_score = best_knn_model.score(X_train_processed, y_train)\n",
        "best_knn_test_score = best_knn_model.score(X_test_processed, y_test)\n",
        "print(f'Training Score: {best_knn_train_score}')\n",
        "print(f'Testing Score: {best_knn_test_score}')\n",
        "print('MAE: ', mean_absolute_error(y_test, y_pred3))\n",
        "print('MSE: ', mean_squared_error(y_test, y_pred3))\n",
        "print('RMSE: ', np.sqrt(mean_squared_error(y_test, y_pred3)))"
      ],
      "metadata": {
        "colab": {
          "base_uri": "https://localhost:8080/"
        },
        "id": "fB5bCWHHGgwz",
        "outputId": "c9e02a0c-e472-4843-b7d8-675a23ebb348"
      },
      "execution_count": 77,
      "outputs": [
        {
          "output_type": "stream",
          "name": "stdout",
          "text": [
            "{'kneighborsregressor__n_neighbors': 7, 'kneighborsregressor__p': 3, 'kneighborsregressor__weights': 'uniform'}\n",
            "Training Score: 0.36048546760820177\n",
            "Testing Score: 0.14461047756942902\n",
            "MAE:  50673.73454157783\n",
            "MSE:  6344172938.807035\n",
            "RMSE:  79650.31662716123\n"
          ]
        }
      ]
    },
    {
      "cell_type": "markdown",
      "source": [
        "**FINAL MODEL:**\n",
        "* 'Best' model would be Random Forest Regression with max_depth of 6. Model predictions would be off by $65k"
      ],
      "metadata": {
        "id": "dd0UbfFOWkYh"
      }
    },
    {
      "cell_type": "code",
      "source": [
        "# set max_depth to 6 for another evaluation\n",
        "rf_6 = RandomForestRegressor(max_depth=6, random_state=42)\n",
        "rf_6.fit(X_train_processed, y_train)\n",
        "y_pred = rf_6.predict(X_test_processed)\n",
        "rf_6_train_score = rf_6.score(X_train_processed, y_train)\n",
        "rf_6_test_score = rf_6.score(X_test_processed, y_test)\n",
        "print(f'Training Score: {rf_6_train_score}')\n",
        "print(f'Testing Score: {rf_6_test_score}')\n",
        "print('MAE: ', mean_absolute_error(y_test, y_pred))\n",
        "print('MSE: ', mean_squared_error(y_test, y_pred))\n",
        "print('RMSE: ', np.sqrt(mean_squared_error(y_test, y_pred)))"
      ],
      "metadata": {
        "colab": {
          "base_uri": "https://localhost:8080/"
        },
        "id": "h_OZvJG8a2CA",
        "outputId": "f356e1c3-b36b-4db6-da50-7229b8679f55"
      },
      "execution_count": 90,
      "outputs": [
        {
          "output_type": "stream",
          "name": "stdout",
          "text": [
            "Training Score: 0.6169561597823114\n",
            "Testing Score: 0.4135129731588937\n",
            "MAE:  39529.732878063165\n",
            "MSE:  4349802080.897881\n",
            "RMSE:  65953.0293534564\n"
          ]
        }
      ]
    }
  ]
}